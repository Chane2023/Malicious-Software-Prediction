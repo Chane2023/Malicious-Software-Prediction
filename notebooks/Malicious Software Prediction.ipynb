{
  "cells": [
    {
      "cell_type": "markdown",
      "id": "e93292d6",
      "metadata": {
        "id": "e93292d6"
      },
      "source": [
        "<center><h1>Malicious Software Prediction using IOT-23 Dataset </center>"
      ]
    },
    {
      "cell_type": "markdown",
      "id": "2d5ba4dc",
      "metadata": {
        "id": "2d5ba4dc"
      },
      "source": [
        "<center><h1>Data Exploration </center>"
      ]
    },
    {
      "cell_type": "code",
      "execution_count": 3,
      "id": "0efc0536",
      "metadata": {
        "id": "0efc0536"
      },
      "outputs": [],
      "source": [
        "import pandas as pd\n",
        "import numpy as np\n",
        "import os\n",
        "from scipy import stats\n",
        "import matplotlib.pyplot as plt\n",
        "import seaborn as sns\n",
        "import plotly.express as px\n",
        "# Set the warning mode to 'none' to suppress the SettingWithCopyWarning\n",
        "pd.options.mode.chained_assignment = None\n",
        "from sklearn.preprocessing import LabelEncoder\n",
        "from sklearn.ensemble import RandomForestClassifier\n",
        "from sklearn.naive_bayes import GaussianNB\n",
        "from sklearn.model_selection import train_test_split\n",
        "from sklearn.preprocessing import MinMaxScaler\n",
        "from sklearn.model_selection import GridSearchCV\n",
        "import shap\n",
        "from sklearn.neighbors import KNeighborsClassifier\n",
        "from sklearn.linear_model import LogisticRegression\n",
        "from sklearn.svm import SVC\n",
        "import lightgbm as lgb\n",
        "from sklearn.metrics import classification_report, confusion_matrix,accuracy_score\n",
        "from sklearn.tree import DecisionTreeClassifier\n",
        "import xgboost as xgb"
      ]
    },
    {
      "cell_type": "code",
      "execution_count": null,
      "id": "369c865c",
      "metadata": {
        "id": "369c865c"
      },
      "outputs": [],
      "source": [
        "# Setting up the working directory\n",
        "os.chdir('..')"
      ]
    },
    {
      "cell_type": "code",
      "execution_count": null,
      "id": "f8c51bea",
      "metadata": {
        "id": "f8c51bea"
      },
      "outputs": [],
      "source": [
        "df = pd.read_csv(r'data/iot23_combined.csv', low_memory=False)"
      ]
    },
    {
      "cell_type": "code",
      "execution_count": null,
      "id": "b58abf27",
      "metadata": {
        "id": "b58abf27",
        "outputId": "f25647df-4075-4f46-8e1b-e0fdf9968b56"
      },
      "outputs": [
        {
          "data": {
            "text/html": [
              "<div>\n",
              "<style scoped>\n",
              "    .dataframe tbody tr th:only-of-type {\n",
              "        vertical-align: middle;\n",
              "    }\n",
              "\n",
              "    .dataframe tbody tr th {\n",
              "        vertical-align: top;\n",
              "    }\n",
              "\n",
              "    .dataframe thead th {\n",
              "        text-align: right;\n",
              "    }\n",
              "</style>\n",
              "<table border=\"1\" class=\"dataframe\">\n",
              "  <thead>\n",
              "    <tr style=\"text-align: right;\">\n",
              "      <th></th>\n",
              "      <th>ts</th>\n",
              "      <th>id.orig_h</th>\n",
              "      <th>duration</th>\n",
              "      <th>orig_bytes</th>\n",
              "      <th>resp_bytes</th>\n",
              "      <th>missed_bytes</th>\n",
              "      <th>orig_pkts</th>\n",
              "      <th>orig_ip_bytes</th>\n",
              "      <th>resp_pkts</th>\n",
              "      <th>resp_ip_bytes</th>\n",
              "      <th>...</th>\n",
              "      <th>conn_state_RSTOS0</th>\n",
              "      <th>conn_state_RSTR</th>\n",
              "      <th>conn_state_RSTRH</th>\n",
              "      <th>conn_state_S0</th>\n",
              "      <th>conn_state_S1</th>\n",
              "      <th>conn_state_S2</th>\n",
              "      <th>conn_state_S3</th>\n",
              "      <th>conn_state_SF</th>\n",
              "      <th>conn_state_SH</th>\n",
              "      <th>conn_state_SHR</th>\n",
              "    </tr>\n",
              "  </thead>\n",
              "  <tbody>\n",
              "    <tr>\n",
              "      <th>0</th>\n",
              "      <td>1.540470e+09</td>\n",
              "      <td>192.168.1.132</td>\n",
              "      <td>0.003497</td>\n",
              "      <td>0</td>\n",
              "      <td>0</td>\n",
              "      <td>0.0</td>\n",
              "      <td>5.0</td>\n",
              "      <td>212.0</td>\n",
              "      <td>3.0</td>\n",
              "      <td>144.0</td>\n",
              "      <td>...</td>\n",
              "      <td>0</td>\n",
              "      <td>0</td>\n",
              "      <td>0</td>\n",
              "      <td>0</td>\n",
              "      <td>0</td>\n",
              "      <td>0</td>\n",
              "      <td>0</td>\n",
              "      <td>1</td>\n",
              "      <td>0</td>\n",
              "      <td>0</td>\n",
              "    </tr>\n",
              "    <tr>\n",
              "      <th>1</th>\n",
              "      <td>1.540470e+09</td>\n",
              "      <td>192.168.1.132</td>\n",
              "      <td>0.036724</td>\n",
              "      <td>34</td>\n",
              "      <td>311</td>\n",
              "      <td>0.0</td>\n",
              "      <td>1.0</td>\n",
              "      <td>62.0</td>\n",
              "      <td>1.0</td>\n",
              "      <td>339.0</td>\n",
              "      <td>...</td>\n",
              "      <td>0</td>\n",
              "      <td>0</td>\n",
              "      <td>0</td>\n",
              "      <td>0</td>\n",
              "      <td>0</td>\n",
              "      <td>0</td>\n",
              "      <td>0</td>\n",
              "      <td>1</td>\n",
              "      <td>0</td>\n",
              "      <td>0</td>\n",
              "    </tr>\n",
              "    <tr>\n",
              "      <th>2</th>\n",
              "      <td>1.540469e+09</td>\n",
              "      <td>192.168.1.132</td>\n",
              "      <td>384.518261</td>\n",
              "      <td>15072</td>\n",
              "      <td>0</td>\n",
              "      <td>0.0</td>\n",
              "      <td>48.0</td>\n",
              "      <td>16416.0</td>\n",
              "      <td>0.0</td>\n",
              "      <td>0.0</td>\n",
              "      <td>...</td>\n",
              "      <td>0</td>\n",
              "      <td>0</td>\n",
              "      <td>0</td>\n",
              "      <td>1</td>\n",
              "      <td>0</td>\n",
              "      <td>0</td>\n",
              "      <td>0</td>\n",
              "      <td>0</td>\n",
              "      <td>0</td>\n",
              "      <td>0</td>\n",
              "    </tr>\n",
              "    <tr>\n",
              "      <th>3</th>\n",
              "      <td>1.540470e+09</td>\n",
              "      <td>192.168.1.132</td>\n",
              "      <td>0.270332</td>\n",
              "      <td>48</td>\n",
              "      <td>48</td>\n",
              "      <td>0.0</td>\n",
              "      <td>1.0</td>\n",
              "      <td>76.0</td>\n",
              "      <td>1.0</td>\n",
              "      <td>76.0</td>\n",
              "      <td>...</td>\n",
              "      <td>0</td>\n",
              "      <td>0</td>\n",
              "      <td>0</td>\n",
              "      <td>0</td>\n",
              "      <td>0</td>\n",
              "      <td>0</td>\n",
              "      <td>0</td>\n",
              "      <td>1</td>\n",
              "      <td>0</td>\n",
              "      <td>0</td>\n",
              "    </tr>\n",
              "    <tr>\n",
              "      <th>4</th>\n",
              "      <td>1.540470e+09</td>\n",
              "      <td>192.168.1.132</td>\n",
              "      <td>0.111429</td>\n",
              "      <td>48</td>\n",
              "      <td>48</td>\n",
              "      <td>0.0</td>\n",
              "      <td>1.0</td>\n",
              "      <td>76.0</td>\n",
              "      <td>1.0</td>\n",
              "      <td>76.0</td>\n",
              "      <td>...</td>\n",
              "      <td>0</td>\n",
              "      <td>0</td>\n",
              "      <td>0</td>\n",
              "      <td>0</td>\n",
              "      <td>0</td>\n",
              "      <td>0</td>\n",
              "      <td>0</td>\n",
              "      <td>1</td>\n",
              "      <td>0</td>\n",
              "      <td>0</td>\n",
              "    </tr>\n",
              "  </tbody>\n",
              "</table>\n",
              "<p>5 rows × 27 columns</p>\n",
              "</div>"
            ],
            "text/plain": [
              "             ts      id.orig_h    duration  orig_bytes  resp_bytes  \\\n",
              "0  1.540470e+09  192.168.1.132    0.003497           0           0   \n",
              "1  1.540470e+09  192.168.1.132    0.036724          34         311   \n",
              "2  1.540469e+09  192.168.1.132  384.518261       15072           0   \n",
              "3  1.540470e+09  192.168.1.132    0.270332          48          48   \n",
              "4  1.540470e+09  192.168.1.132    0.111429          48          48   \n",
              "\n",
              "   missed_bytes  orig_pkts  orig_ip_bytes  resp_pkts  resp_ip_bytes  ...  \\\n",
              "0           0.0        5.0          212.0        3.0          144.0  ...   \n",
              "1           0.0        1.0           62.0        1.0          339.0  ...   \n",
              "2           0.0       48.0        16416.0        0.0            0.0  ...   \n",
              "3           0.0        1.0           76.0        1.0           76.0  ...   \n",
              "4           0.0        1.0           76.0        1.0           76.0  ...   \n",
              "\n",
              "  conn_state_RSTOS0  conn_state_RSTR  conn_state_RSTRH  conn_state_S0  \\\n",
              "0                 0                0                 0              0   \n",
              "1                 0                0                 0              0   \n",
              "2                 0                0                 0              1   \n",
              "3                 0                0                 0              0   \n",
              "4                 0                0                 0              0   \n",
              "\n",
              "   conn_state_S1  conn_state_S2  conn_state_S3  conn_state_SF  conn_state_SH  \\\n",
              "0              0              0              0              1              0   \n",
              "1              0              0              0              1              0   \n",
              "2              0              0              0              0              0   \n",
              "3              0              0              0              1              0   \n",
              "4              0              0              0              1              0   \n",
              "\n",
              "   conn_state_SHR  \n",
              "0               0  \n",
              "1               0  \n",
              "2               0  \n",
              "3               0  \n",
              "4               0  \n",
              "\n",
              "[5 rows x 27 columns]"
            ]
          },
          "execution_count": 4,
          "metadata": {},
          "output_type": "execute_result"
        }
      ],
      "source": [
        "df.head(5)"
      ]
    },
    {
      "cell_type": "code",
      "execution_count": null,
      "id": "e7fed7e8",
      "metadata": {
        "id": "e7fed7e8",
        "outputId": "670f9dc1-ae15-4173-c88d-fc3f89747c63"
      },
      "outputs": [
        {
          "name": "stdout",
          "output_type": "stream",
          "text": [
            "Index(['ts', 'id.orig_h', 'duration', 'orig_bytes', 'resp_bytes',\n",
            "       'missed_bytes', 'orig_pkts', 'orig_ip_bytes', 'resp_pkts',\n",
            "       'resp_ip_bytes', 'label', 'proto_icmp', 'proto_tcp', 'proto_udp',\n",
            "       'conn_state_OTH', 'conn_state_REJ', 'conn_state_RSTO',\n",
            "       'conn_state_RSTOS0', 'conn_state_RSTR', 'conn_state_RSTRH',\n",
            "       'conn_state_S0', 'conn_state_S1', 'conn_state_S2', 'conn_state_S3',\n",
            "       'conn_state_SF', 'conn_state_SH', 'conn_state_SHR'],\n",
            "      dtype='object')\n",
            "\n",
            "\n",
            "Total number of columns 27\n"
          ]
        }
      ],
      "source": [
        "# Checking the count of the columns\n",
        "print(df.columns)\n",
        "print('\\n')\n",
        "print('Total number of columns', len(df.columns))"
      ]
    },
    {
      "cell_type": "code",
      "execution_count": null,
      "id": "26eee597",
      "metadata": {
        "id": "26eee597",
        "outputId": "ae1f2cc9-6aaf-42d7-a76c-93727c281c44"
      },
      "outputs": [
        {
          "data": {
            "text/plain": [
              "ts                   float64\n",
              "id.orig_h             object\n",
              "duration             float64\n",
              "orig_bytes             int64\n",
              "resp_bytes             int64\n",
              "missed_bytes         float64\n",
              "orig_pkts            float64\n",
              "orig_ip_bytes        float64\n",
              "resp_pkts            float64\n",
              "resp_ip_bytes        float64\n",
              "label                 object\n",
              "proto_icmp             int64\n",
              "proto_tcp              int64\n",
              "proto_udp              int64\n",
              "conn_state_OTH         int64\n",
              "conn_state_REJ         int64\n",
              "conn_state_RSTO        int64\n",
              "conn_state_RSTOS0      int64\n",
              "conn_state_RSTR        int64\n",
              "conn_state_RSTRH       int64\n",
              "conn_state_S0          int64\n",
              "conn_state_S1          int64\n",
              "conn_state_S2          int64\n",
              "conn_state_S3          int64\n",
              "conn_state_SF          int64\n",
              "conn_state_SH          int64\n",
              "conn_state_SHR         int64\n",
              "dtype: object"
            ]
          },
          "execution_count": 5,
          "metadata": {},
          "output_type": "execute_result"
        }
      ],
      "source": [
        "# Checking the data types of the dataframe\n",
        "df.dtypes"
      ]
    },
    {
      "cell_type": "markdown",
      "id": "ca0e5b75",
      "metadata": {
        "id": "ca0e5b75"
      },
      "source": [
        "##  Generalized Dataset Description\n",
        "1. ts --\tThe time when the capture was done, expressed in Unix Time\n",
        "2. uid --\tThe ID of the capture\n",
        "3. id_orig_h --\tThe IP address where the attack happened, either IPv4 or IPv6\n",
        "4. id_orig_p --\tThe port used by the responder\n",
        "5. id_resp_h --\tThe IP address of the device on which the capture happened\n",
        "6. id_resp_p --\tThe port used for the response from the device where the capture happened\n",
        "7. proto --\tThe network protocol used for the data package\n",
        "8. duration --\tThe amount of time data was traded between the device and the attacker\n",
        "9. orig_bytes --\tThe amount of data sent to the device\n",
        "10. resp_bytes --\tThe amount of data sent by the device\n",
        "11. conn_state --\tThe state of the connection\n",
        "12. local_orig --\tWhether the connection originated locally\n",
        "13. local_resp --\tWhether the response originated locally\n",
        "14. missed_bytes --\tNumber of missed bytes in a message\n",
        "15. history --\tThe history of the state of the connection\n",
        "16. orig_pkts --\tNumber of packets being sent to the device\n",
        "17. orig_ip_bytes --\tNumber of bytes being sent to the device\n",
        "18. resp_pkts --\tNumber of packets being sent from the device\n",
        "19. resp_ip_bytes --\tNumber of bytes being sent from the device\n",
        "20. label --\tThe type of capture, benign or malicious\n"
      ]
    },
    {
      "cell_type": "code",
      "execution_count": null,
      "id": "1c2197b3",
      "metadata": {
        "id": "1c2197b3",
        "outputId": "2c326590-2493-415d-b3c5-bc1429c0852a"
      },
      "outputs": [
        {
          "data": {
            "text/plain": [
              "PartOfAHorizontalPortScan     825939\n",
              "Okiru                         262690\n",
              "-   Benign   -                146275\n",
              "DDoS                          138777\n",
              "Benign                         53481\n",
              "C&C                            15100\n",
              "Attack                          3915\n",
              "C&C-HeartBeat                    349\n",
              "C&C-FileDownload                  43\n",
              "C&C-Torii                         30\n",
              "FileDownload                      13\n",
              "C&C-HeartBeat-FileDownload         8\n",
              "C&C-Mirai                          1\n",
              "Name: label, dtype: int64"
            ]
          },
          "execution_count": 6,
          "metadata": {},
          "output_type": "execute_result"
        }
      ],
      "source": [
        "# Check for different types of attacks and their frequencies in the data\n",
        "df['label'].value_counts()"
      ]
    },
    {
      "cell_type": "markdown",
      "id": "3aa3ff96",
      "metadata": {
        "id": "3aa3ff96"
      },
      "source": [
        "<center><h1>Data Cleansing and Preprocessing</center>"
      ]
    },
    {
      "cell_type": "code",
      "execution_count": null,
      "id": "d500b7ab",
      "metadata": {
        "id": "d500b7ab",
        "outputId": "b8fe7497-eafa-43ff-a683-22838f175444"
      },
      "outputs": [
        {
          "data": {
            "text/plain": [
              "ts                   0\n",
              "id.orig_h            0\n",
              "duration             0\n",
              "orig_bytes           0\n",
              "resp_bytes           0\n",
              "missed_bytes         0\n",
              "orig_pkts            0\n",
              "orig_ip_bytes        0\n",
              "resp_pkts            0\n",
              "resp_ip_bytes        0\n",
              "label                0\n",
              "proto_icmp           0\n",
              "proto_tcp            0\n",
              "proto_udp            0\n",
              "conn_state_OTH       0\n",
              "conn_state_REJ       0\n",
              "conn_state_RSTO      0\n",
              "conn_state_RSTOS0    0\n",
              "conn_state_RSTR      0\n",
              "conn_state_RSTRH     0\n",
              "conn_state_S0        0\n",
              "conn_state_S1        0\n",
              "conn_state_S2        0\n",
              "conn_state_S3        0\n",
              "conn_state_SF        0\n",
              "conn_state_SH        0\n",
              "conn_state_SHR       0\n",
              "dtype: int64"
            ]
          },
          "execution_count": 7,
          "metadata": {},
          "output_type": "execute_result"
        }
      ],
      "source": [
        "# Check if any null data exists in the dataset\n",
        "df.isna().sum()"
      ]
    },
    {
      "cell_type": "code",
      "execution_count": null,
      "id": "11ade5c9",
      "metadata": {
        "id": "11ade5c9"
      },
      "outputs": [],
      "source": [
        "# Remove duplicate rows based on all columns\n",
        "df.drop_duplicates(inplace=True)"
      ]
    },
    {
      "cell_type": "markdown",
      "id": "8b3666e6",
      "metadata": {
        "id": "8b3666e6"
      },
      "source": [
        "## Outlier Treatment\n",
        "1. Z-Score Calculation: For every data point, compute its Z-score, which represents how many standard deviations the data point is away from the mean of the dataset.\n",
        "\n",
        "2. Threshold Determination: Set a threshold (commonly set to a value like 3) to determine how extreme a Z-score has to be for the corresponding data point to be considered an outlier.\n",
        "\n",
        "3. Outlier Identification: Data points with Z-scores greater than the threshold are identified as outliers. Essentially, points that are too far from the mean, based on the set threshold, are flagged.\n",
        "\n",
        "4. Outlier Removal: Using the identified outliers from the previous step, these data points are excluded or replaced to cleanse the dataset.\n",
        "\n",
        "5. Clean Dataset: After removal, the result is a dataset with reduced extremities and variations caused by outliers."
      ]
    },
    {
      "cell_type": "code",
      "execution_count": null,
      "id": "0b712784",
      "metadata": {
        "id": "0b712784"
      },
      "outputs": [],
      "source": [
        "# Define a threshold for considering values as outliers\n",
        "threshold = 3\n",
        "\n",
        "# Copy the original DataFrame to a new one to retain all columns\n",
        "df_no_outliers = df.copy(deep = True)\n",
        "\n",
        "# Iterate through each numerical column\n",
        "for column in['orig_bytes','resp_bytes', 'orig_pkts','resp_pkts']:\n",
        "    # Calculate the z-scores for the column\n",
        "    z_scores = np.abs(stats.zscore(df_no_outliers[column]))\n",
        "\n",
        "    # Identify outliers\n",
        "    outliers = np.where(z_scores > threshold)\n",
        "\n",
        "    # Create a mask to filter out outliers\n",
        "    mask = ~(z_scores > threshold)\n",
        "\n",
        "    # Replace outlier values with NaN\n",
        "    df_no_outliers[column][~mask] = np.nan\n",
        "\n",
        "# Optionally, you can drop rows with any missing values after outlier treatment\n",
        "df_no_outliers.dropna(inplace=True)"
      ]
    },
    {
      "cell_type": "code",
      "execution_count": null,
      "id": "385170c9",
      "metadata": {
        "id": "385170c9",
        "outputId": "d2de5b0b-5f11-4524-edfe-b2b02266059f"
      },
      "outputs": [
        {
          "data": {
            "text/html": [
              "<div>\n",
              "<style scoped>\n",
              "    .dataframe tbody tr th:only-of-type {\n",
              "        vertical-align: middle;\n",
              "    }\n",
              "\n",
              "    .dataframe tbody tr th {\n",
              "        vertical-align: top;\n",
              "    }\n",
              "\n",
              "    .dataframe thead th {\n",
              "        text-align: right;\n",
              "    }\n",
              "</style>\n",
              "<table border=\"1\" class=\"dataframe\">\n",
              "  <thead>\n",
              "    <tr style=\"text-align: right;\">\n",
              "      <th></th>\n",
              "      <th>ts</th>\n",
              "      <th>id.orig_h</th>\n",
              "      <th>duration</th>\n",
              "      <th>orig_bytes</th>\n",
              "      <th>resp_bytes</th>\n",
              "      <th>missed_bytes</th>\n",
              "      <th>orig_pkts</th>\n",
              "      <th>orig_ip_bytes</th>\n",
              "      <th>resp_pkts</th>\n",
              "      <th>resp_ip_bytes</th>\n",
              "      <th>...</th>\n",
              "      <th>conn_state_RSTOS0</th>\n",
              "      <th>conn_state_RSTR</th>\n",
              "      <th>conn_state_RSTRH</th>\n",
              "      <th>conn_state_S0</th>\n",
              "      <th>conn_state_S1</th>\n",
              "      <th>conn_state_S2</th>\n",
              "      <th>conn_state_S3</th>\n",
              "      <th>conn_state_SF</th>\n",
              "      <th>conn_state_SH</th>\n",
              "      <th>conn_state_SHR</th>\n",
              "    </tr>\n",
              "  </thead>\n",
              "  <tbody>\n",
              "    <tr>\n",
              "      <th>0</th>\n",
              "      <td>1.540470e+09</td>\n",
              "      <td>192.168.1.132</td>\n",
              "      <td>0.003497</td>\n",
              "      <td>0.0</td>\n",
              "      <td>0.0</td>\n",
              "      <td>0.0</td>\n",
              "      <td>5.0</td>\n",
              "      <td>212.0</td>\n",
              "      <td>3.0</td>\n",
              "      <td>144.0</td>\n",
              "      <td>...</td>\n",
              "      <td>0</td>\n",
              "      <td>0</td>\n",
              "      <td>0</td>\n",
              "      <td>0</td>\n",
              "      <td>0</td>\n",
              "      <td>0</td>\n",
              "      <td>0</td>\n",
              "      <td>1</td>\n",
              "      <td>0</td>\n",
              "      <td>0</td>\n",
              "    </tr>\n",
              "    <tr>\n",
              "      <th>1</th>\n",
              "      <td>1.540470e+09</td>\n",
              "      <td>192.168.1.132</td>\n",
              "      <td>0.036724</td>\n",
              "      <td>34.0</td>\n",
              "      <td>311.0</td>\n",
              "      <td>0.0</td>\n",
              "      <td>1.0</td>\n",
              "      <td>62.0</td>\n",
              "      <td>1.0</td>\n",
              "      <td>339.0</td>\n",
              "      <td>...</td>\n",
              "      <td>0</td>\n",
              "      <td>0</td>\n",
              "      <td>0</td>\n",
              "      <td>0</td>\n",
              "      <td>0</td>\n",
              "      <td>0</td>\n",
              "      <td>0</td>\n",
              "      <td>1</td>\n",
              "      <td>0</td>\n",
              "      <td>0</td>\n",
              "    </tr>\n",
              "    <tr>\n",
              "      <th>2</th>\n",
              "      <td>1.540469e+09</td>\n",
              "      <td>192.168.1.132</td>\n",
              "      <td>384.518261</td>\n",
              "      <td>15072.0</td>\n",
              "      <td>0.0</td>\n",
              "      <td>0.0</td>\n",
              "      <td>48.0</td>\n",
              "      <td>16416.0</td>\n",
              "      <td>0.0</td>\n",
              "      <td>0.0</td>\n",
              "      <td>...</td>\n",
              "      <td>0</td>\n",
              "      <td>0</td>\n",
              "      <td>0</td>\n",
              "      <td>1</td>\n",
              "      <td>0</td>\n",
              "      <td>0</td>\n",
              "      <td>0</td>\n",
              "      <td>0</td>\n",
              "      <td>0</td>\n",
              "      <td>0</td>\n",
              "    </tr>\n",
              "    <tr>\n",
              "      <th>3</th>\n",
              "      <td>1.540470e+09</td>\n",
              "      <td>192.168.1.132</td>\n",
              "      <td>0.270332</td>\n",
              "      <td>48.0</td>\n",
              "      <td>48.0</td>\n",
              "      <td>0.0</td>\n",
              "      <td>1.0</td>\n",
              "      <td>76.0</td>\n",
              "      <td>1.0</td>\n",
              "      <td>76.0</td>\n",
              "      <td>...</td>\n",
              "      <td>0</td>\n",
              "      <td>0</td>\n",
              "      <td>0</td>\n",
              "      <td>0</td>\n",
              "      <td>0</td>\n",
              "      <td>0</td>\n",
              "      <td>0</td>\n",
              "      <td>1</td>\n",
              "      <td>0</td>\n",
              "      <td>0</td>\n",
              "    </tr>\n",
              "    <tr>\n",
              "      <th>4</th>\n",
              "      <td>1.540470e+09</td>\n",
              "      <td>192.168.1.132</td>\n",
              "      <td>0.111429</td>\n",
              "      <td>48.0</td>\n",
              "      <td>48.0</td>\n",
              "      <td>0.0</td>\n",
              "      <td>1.0</td>\n",
              "      <td>76.0</td>\n",
              "      <td>1.0</td>\n",
              "      <td>76.0</td>\n",
              "      <td>...</td>\n",
              "      <td>0</td>\n",
              "      <td>0</td>\n",
              "      <td>0</td>\n",
              "      <td>0</td>\n",
              "      <td>0</td>\n",
              "      <td>0</td>\n",
              "      <td>0</td>\n",
              "      <td>1</td>\n",
              "      <td>0</td>\n",
              "      <td>0</td>\n",
              "    </tr>\n",
              "    <tr>\n",
              "      <th>...</th>\n",
              "      <td>...</td>\n",
              "      <td>...</td>\n",
              "      <td>...</td>\n",
              "      <td>...</td>\n",
              "      <td>...</td>\n",
              "      <td>...</td>\n",
              "      <td>...</td>\n",
              "      <td>...</td>\n",
              "      <td>...</td>\n",
              "      <td>...</td>\n",
              "      <td>...</td>\n",
              "      <td>...</td>\n",
              "      <td>...</td>\n",
              "      <td>...</td>\n",
              "      <td>...</td>\n",
              "      <td>...</td>\n",
              "      <td>...</td>\n",
              "      <td>...</td>\n",
              "      <td>...</td>\n",
              "      <td>...</td>\n",
              "      <td>...</td>\n",
              "    </tr>\n",
              "    <tr>\n",
              "      <th>1446616</th>\n",
              "      <td>1.532526e+09</td>\n",
              "      <td>192.168.100.111</td>\n",
              "      <td>0.000000</td>\n",
              "      <td>0.0</td>\n",
              "      <td>0.0</td>\n",
              "      <td>0.0</td>\n",
              "      <td>1.0</td>\n",
              "      <td>40.0</td>\n",
              "      <td>0.0</td>\n",
              "      <td>0.0</td>\n",
              "      <td>...</td>\n",
              "      <td>0</td>\n",
              "      <td>0</td>\n",
              "      <td>0</td>\n",
              "      <td>1</td>\n",
              "      <td>0</td>\n",
              "      <td>0</td>\n",
              "      <td>0</td>\n",
              "      <td>0</td>\n",
              "      <td>0</td>\n",
              "      <td>0</td>\n",
              "    </tr>\n",
              "    <tr>\n",
              "      <th>1446617</th>\n",
              "      <td>1.532526e+09</td>\n",
              "      <td>192.168.100.111</td>\n",
              "      <td>0.000000</td>\n",
              "      <td>0.0</td>\n",
              "      <td>0.0</td>\n",
              "      <td>0.0</td>\n",
              "      <td>1.0</td>\n",
              "      <td>40.0</td>\n",
              "      <td>0.0</td>\n",
              "      <td>0.0</td>\n",
              "      <td>...</td>\n",
              "      <td>0</td>\n",
              "      <td>0</td>\n",
              "      <td>0</td>\n",
              "      <td>1</td>\n",
              "      <td>0</td>\n",
              "      <td>0</td>\n",
              "      <td>0</td>\n",
              "      <td>0</td>\n",
              "      <td>0</td>\n",
              "      <td>0</td>\n",
              "    </tr>\n",
              "    <tr>\n",
              "      <th>1446618</th>\n",
              "      <td>1.532526e+09</td>\n",
              "      <td>192.168.100.111</td>\n",
              "      <td>0.000000</td>\n",
              "      <td>0.0</td>\n",
              "      <td>0.0</td>\n",
              "      <td>0.0</td>\n",
              "      <td>1.0</td>\n",
              "      <td>40.0</td>\n",
              "      <td>0.0</td>\n",
              "      <td>0.0</td>\n",
              "      <td>...</td>\n",
              "      <td>0</td>\n",
              "      <td>0</td>\n",
              "      <td>0</td>\n",
              "      <td>1</td>\n",
              "      <td>0</td>\n",
              "      <td>0</td>\n",
              "      <td>0</td>\n",
              "      <td>0</td>\n",
              "      <td>0</td>\n",
              "      <td>0</td>\n",
              "    </tr>\n",
              "    <tr>\n",
              "      <th>1446619</th>\n",
              "      <td>1.532526e+09</td>\n",
              "      <td>192.168.100.111</td>\n",
              "      <td>0.000000</td>\n",
              "      <td>0.0</td>\n",
              "      <td>0.0</td>\n",
              "      <td>0.0</td>\n",
              "      <td>1.0</td>\n",
              "      <td>40.0</td>\n",
              "      <td>0.0</td>\n",
              "      <td>0.0</td>\n",
              "      <td>...</td>\n",
              "      <td>0</td>\n",
              "      <td>0</td>\n",
              "      <td>0</td>\n",
              "      <td>1</td>\n",
              "      <td>0</td>\n",
              "      <td>0</td>\n",
              "      <td>0</td>\n",
              "      <td>0</td>\n",
              "      <td>0</td>\n",
              "      <td>0</td>\n",
              "    </tr>\n",
              "    <tr>\n",
              "      <th>1446620</th>\n",
              "      <td>1.532526e+09</td>\n",
              "      <td>192.168.100.111</td>\n",
              "      <td>0.000000</td>\n",
              "      <td>0.0</td>\n",
              "      <td>0.0</td>\n",
              "      <td>0.0</td>\n",
              "      <td>1.0</td>\n",
              "      <td>40.0</td>\n",
              "      <td>0.0</td>\n",
              "      <td>0.0</td>\n",
              "      <td>...</td>\n",
              "      <td>0</td>\n",
              "      <td>0</td>\n",
              "      <td>0</td>\n",
              "      <td>1</td>\n",
              "      <td>0</td>\n",
              "      <td>0</td>\n",
              "      <td>0</td>\n",
              "      <td>0</td>\n",
              "      <td>0</td>\n",
              "      <td>0</td>\n",
              "    </tr>\n",
              "  </tbody>\n",
              "</table>\n",
              "<p>1446581 rows × 27 columns</p>\n",
              "</div>"
            ],
            "text/plain": [
              "                   ts        id.orig_h    duration  orig_bytes  resp_bytes  \\\n",
              "0        1.540470e+09    192.168.1.132    0.003497         0.0         0.0   \n",
              "1        1.540470e+09    192.168.1.132    0.036724        34.0       311.0   \n",
              "2        1.540469e+09    192.168.1.132  384.518261     15072.0         0.0   \n",
              "3        1.540470e+09    192.168.1.132    0.270332        48.0        48.0   \n",
              "4        1.540470e+09    192.168.1.132    0.111429        48.0        48.0   \n",
              "...               ...              ...         ...         ...         ...   \n",
              "1446616  1.532526e+09  192.168.100.111    0.000000         0.0         0.0   \n",
              "1446617  1.532526e+09  192.168.100.111    0.000000         0.0         0.0   \n",
              "1446618  1.532526e+09  192.168.100.111    0.000000         0.0         0.0   \n",
              "1446619  1.532526e+09  192.168.100.111    0.000000         0.0         0.0   \n",
              "1446620  1.532526e+09  192.168.100.111    0.000000         0.0         0.0   \n",
              "\n",
              "         missed_bytes  orig_pkts  orig_ip_bytes  resp_pkts  resp_ip_bytes  \\\n",
              "0                 0.0        5.0          212.0        3.0          144.0   \n",
              "1                 0.0        1.0           62.0        1.0          339.0   \n",
              "2                 0.0       48.0        16416.0        0.0            0.0   \n",
              "3                 0.0        1.0           76.0        1.0           76.0   \n",
              "4                 0.0        1.0           76.0        1.0           76.0   \n",
              "...               ...        ...            ...        ...            ...   \n",
              "1446616           0.0        1.0           40.0        0.0            0.0   \n",
              "1446617           0.0        1.0           40.0        0.0            0.0   \n",
              "1446618           0.0        1.0           40.0        0.0            0.0   \n",
              "1446619           0.0        1.0           40.0        0.0            0.0   \n",
              "1446620           0.0        1.0           40.0        0.0            0.0   \n",
              "\n",
              "         ... conn_state_RSTOS0  conn_state_RSTR  conn_state_RSTRH  \\\n",
              "0        ...                 0                0                 0   \n",
              "1        ...                 0                0                 0   \n",
              "2        ...                 0                0                 0   \n",
              "3        ...                 0                0                 0   \n",
              "4        ...                 0                0                 0   \n",
              "...      ...               ...              ...               ...   \n",
              "1446616  ...                 0                0                 0   \n",
              "1446617  ...                 0                0                 0   \n",
              "1446618  ...                 0                0                 0   \n",
              "1446619  ...                 0                0                 0   \n",
              "1446620  ...                 0                0                 0   \n",
              "\n",
              "         conn_state_S0  conn_state_S1  conn_state_S2  conn_state_S3  \\\n",
              "0                    0              0              0              0   \n",
              "1                    0              0              0              0   \n",
              "2                    1              0              0              0   \n",
              "3                    0              0              0              0   \n",
              "4                    0              0              0              0   \n",
              "...                ...            ...            ...            ...   \n",
              "1446616              1              0              0              0   \n",
              "1446617              1              0              0              0   \n",
              "1446618              1              0              0              0   \n",
              "1446619              1              0              0              0   \n",
              "1446620              1              0              0              0   \n",
              "\n",
              "         conn_state_SF  conn_state_SH  conn_state_SHR  \n",
              "0                    1              0               0  \n",
              "1                    1              0               0  \n",
              "2                    0              0               0  \n",
              "3                    1              0               0  \n",
              "4                    1              0               0  \n",
              "...                ...            ...             ...  \n",
              "1446616              0              0               0  \n",
              "1446617              0              0               0  \n",
              "1446618              0              0               0  \n",
              "1446619              0              0               0  \n",
              "1446620              0              0               0  \n",
              "\n",
              "[1446581 rows x 27 columns]"
            ]
          },
          "execution_count": 10,
          "metadata": {},
          "output_type": "execute_result"
        }
      ],
      "source": [
        "df_no_outliers"
      ]
    },
    {
      "cell_type": "code",
      "execution_count": null,
      "id": "be9d6d5f",
      "metadata": {
        "id": "be9d6d5f"
      },
      "outputs": [],
      "source": [
        "# Creating a deep copy of the dataframe\n",
        "df = df_no_outliers.copy(deep = True)"
      ]
    },
    {
      "cell_type": "code",
      "execution_count": null,
      "id": "617cd20f",
      "metadata": {
        "id": "617cd20f"
      },
      "outputs": [],
      "source": [
        "# Saving the cleaned dataframe\n",
        "df.to_csv('data/iot_23_cleaned.csv',index = False)"
      ]
    },
    {
      "cell_type": "code",
      "execution_count": null,
      "id": "e437b7ab",
      "metadata": {
        "id": "e437b7ab",
        "outputId": "51f22504-0c70-4ab6-d71b-3d200b5ff2c1"
      },
      "outputs": [
        {
          "data": {
            "text/plain": [
              "Index(['ts', 'id.orig_h', 'duration', 'orig_bytes', 'resp_bytes',\n",
              "       'missed_bytes', 'orig_pkts', 'orig_ip_bytes', 'resp_pkts',\n",
              "       'resp_ip_bytes', 'label', 'proto_icmp', 'proto_tcp', 'proto_udp',\n",
              "       'conn_state_OTH', 'conn_state_REJ', 'conn_state_RSTO',\n",
              "       'conn_state_RSTOS0', 'conn_state_RSTR', 'conn_state_RSTRH',\n",
              "       'conn_state_S0', 'conn_state_S1', 'conn_state_S2', 'conn_state_S3',\n",
              "       'conn_state_SF', 'conn_state_SH', 'conn_state_SHR'],\n",
              "      dtype='object')"
            ]
          },
          "execution_count": 13,
          "metadata": {},
          "output_type": "execute_result"
        }
      ],
      "source": [
        "df.columns"
      ]
    },
    {
      "cell_type": "markdown",
      "id": "d1ed2d73",
      "metadata": {
        "id": "d1ed2d73"
      },
      "source": [
        "<center><h1>Exploratory Data Analysis </center>"
      ]
    },
    {
      "cell_type": "code",
      "execution_count": null,
      "id": "df7b6a1e",
      "metadata": {
        "id": "df7b6a1e"
      },
      "outputs": [],
      "source": [
        "# Creating a proto column\n",
        "def proto(df):\n",
        "    if df['proto_icmp'] ==1:\n",
        "        return 'ICMP'\n",
        "    elif df['proto_tcp'] == 1:\n",
        "        return 'TCP'\n",
        "    else:\n",
        "        return 'UDP'\n",
        "\n",
        "\n",
        "proto_df = df.apply(proto,axis =1)\n",
        "proto_df = pd.DataFrame(proto_df, columns =['proto']).reset_index(drop = True)"
      ]
    },
    {
      "cell_type": "code",
      "execution_count": null,
      "id": "7816e3e8",
      "metadata": {
        "id": "7816e3e8",
        "outputId": "cae3d85d-775c-42f6-c692-15175f31603b"
      },
      "outputs": [
        {
          "data": {
            "image/png": "[encoded data removed]",
            "text/plain": [
              "<Figure size 432x288 with 1 Axes>"
            ]
          },
          "metadata": {
            "needs_background": "light"
          },
          "output_type": "display_data"
        }
      ],
      "source": [
        "# Checking the distribution of the Protocols used\n",
        "sns.countplot(x ='proto', data = proto_df)\n",
        "\n",
        "# Show the plot\n",
        "plt.show()"
      ]
    },
    {
      "cell_type": "markdown",
      "id": "ad332b53",
      "metadata": {
        "id": "ad332b53"
      },
      "source": [
        "<b>Insights:\n",
        "1. **Distribution of Protocol Used**: The majority of the connections in the sample use the tcp protocol, followed by udp. There are very few connections that utilize other protocols."
      ]
    },
    {
      "cell_type": "code",
      "execution_count": null,
      "id": "5817da3e",
      "metadata": {
        "id": "5817da3e"
      },
      "outputs": [],
      "source": [
        "# Filter out non-numeric values (like '-')\n",
        "iot_23_filtered = df[df['duration'] != '-']\n",
        "iot_23_filtered['duration'] = iot_23_filtered['duration'].astype(float)\n",
        "\n",
        "# Distribution of connection duration\n",
        "fig_duration = px.histogram(iot_23_filtered, x=\"duration\", nbins=100, title=\"Distribution of Connection Duration\")\n",
        "\n",
        "# Filter out non-numeric values for orig_bytes\n",
        "iot_23_filtered_bytes = df[df['orig_bytes'] != '-']\n",
        "iot_23_filtered_bytes['orig_bytes'] = iot_23_filtered_bytes['orig_bytes'].astype(float).astype(int)\n"
      ]
    },
    {
      "cell_type": "code",
      "execution_count": null,
      "id": "59543798",
      "metadata": {
        "id": "59543798",
        "outputId": "6622cc33-81d4-40f8-cfa6-891db83473fa"
      },
      "outputs": [
        {
          "data": {
            "image/png": "[encoded data removed]",
            "text/plain": [
              "<Figure size 1008x720 with 2 Axes>"
            ]
          },
          "metadata": {
            "needs_background": "light"
          },
          "output_type": "display_data"
        }
      ],
      "source": [
        "# Set up the figure and axes\n",
        "fig, ax = plt.subplots(nrows=2, ncols=1, figsize=(14, 10))\n",
        "\n",
        "# Distribution of connection duration\n",
        "sns.histplot(iot_23_filtered['duration'], bins=100, ax=ax[0], kde=True)\n",
        "ax[0].set_title('Distribution of Connection Duration')\n",
        "ax[0].set_xlabel('Duration')\n",
        "ax[0].set_ylabel('Count')\n",
        "\n",
        "# Distribution of orig_bytes\n",
        "sns.histplot(iot_23_filtered_bytes['orig_bytes'], bins=100, ax=ax[1], kde=True)\n",
        "ax[1].set_title('Distribution of Bytes Sent by Originator')\n",
        "ax[1].set_xlabel('Bytes')\n",
        "ax[1].set_ylabel('Count')\n",
        "\n",
        "plt.tight_layout()\n",
        "plt.show()"
      ]
    },
    {
      "cell_type": "markdown",
      "id": "3bd92cf8",
      "metadata": {
        "id": "3bd92cf8"
      },
      "source": [
        "<b>Insights:</b>\n",
        "1. **Distribution of Connection Duration**: Most of the connections have a short duration, with a peak near the start. This could indicate a lot of short-lived connections, possibly signifying network scans or brief exchanges.\n",
        "2. **Distribution of Bytes Sent by Originator**: The vast majority of connections involve the transmission of a small number of bytes. However, there are a few connections with significantly larger byte transmissions, potentially indicating data exfiltration or large file transfers."
      ]
    },
    {
      "cell_type": "code",
      "execution_count": null,
      "id": "6f866bad",
      "metadata": {
        "id": "6f866bad",
        "outputId": "f6080b86-5307-41dc-97f7-8cc564073139"
      },
      "outputs": [
        {
          "data": {
            "image/png": "[encoded data removed]",
            "text/plain": [
              "<Figure size 1008x864 with 3 Axes>"
            ]
          },
          "metadata": {
            "needs_background": "light"
          },
          "output_type": "display_data"
        }
      ],
      "source": [
        "# Set up the figure and axes\n",
        "fig, ax = plt.subplots(nrows=2, ncols=1, figsize=(14, 12))\n",
        "\n",
        "# Distribution of label\n",
        "sns.countplot(data=df, y='label', ax=ax[0], order=df['label'].value_counts().index)\n",
        "ax[0].set_title('Distribution of Connection Labels')\n",
        "ax[0].set_xlabel('Count')\n",
        "ax[0].set_ylabel('Label')\n",
        "\n",
        "# Correlation matrix for numerical features\n",
        "# Filter out non-numeric values for duration and orig_bytes\n",
        "correlation_data = iot_23_filtered_bytes[['duration', 'orig_bytes', 'orig_pkts', 'orig_ip_bytes', 'resp_pkts', 'resp_ip_bytes']]\n",
        "correlation_data['duration'] = correlation_data['duration'].astype(float)\n",
        "correlation_data['orig_bytes'] = correlation_data['orig_bytes'].astype(int)\n",
        "correlation_matrix = correlation_data.corr()\n",
        "\n",
        "sns.heatmap(correlation_matrix, annot=True, cmap='coolwarm', ax=ax[1])\n",
        "ax[1].set_title('Correlation Matrix for Numerical Features')\n",
        "\n",
        "plt.tight_layout()\n",
        "plt.show()\n"
      ]
    },
    {
      "cell_type": "markdown",
      "id": "f7dab7b0",
      "metadata": {
        "id": "f7dab7b0"
      },
      "source": [
        "<b>Insights:</b>\n",
        "1. **Distribution of Connection Labels**: The data predominantly contains benign connections, but there are several labeled as PartOfAHorizontalPortScan, suggesting instances of scanning activity. There are also a few other labels present in smaller quantities. Also, the labels are needed to be cleaned and merged based on the above plots\n",
        "\n",
        "\n",
        "2. **Correlation Matrix for Numerical Features**:\n",
        "    There's a high correlation between orig_pkts (original packets) and orig_ip_bytes (original IP bytes). This makes sense as more packets usually mean more bytes.\n",
        "\n",
        "    resp_pkts (response packets) and resp_ip_bytes (response IP bytes) also exhibit a high correlation for similar reasons.\n",
        "    There's a mild correlation between orig_bytes and orig_pkts, indicating that as the byte count increases, the number of packets usually increases."
      ]
    },
    {
      "cell_type": "code",
      "execution_count": null,
      "id": "4750c4da",
      "metadata": {
        "id": "4750c4da"
      },
      "outputs": [],
      "source": [
        "# Creating a proto column\n",
        "def conn_state(df):\n",
        "    if df['proto_icmp'] ==1:\n",
        "        return 'ICMP'\n",
        "    elif df['proto_tcp'] == 1:\n",
        "        return 'TCP'\n",
        "    else:\n",
        "        return 'UDP'\n",
        "\n",
        "\n",
        "connstate = df.apply(conn_state,axis =1)\n",
        "conn_state_df = pd.DataFrame(connstate, columns =['conn_state']).reset_index(drop = True)"
      ]
    },
    {
      "cell_type": "code",
      "execution_count": null,
      "id": "42f72d75",
      "metadata": {
        "id": "42f72d75"
      },
      "outputs": [],
      "source": [
        "# Creating a consolidated conn state data\n",
        "state_cols = list(df.columns[14:])\n",
        "\n",
        "def get_state(row):\n",
        "  for col in state_cols:\n",
        "    if row[col] == 1:\n",
        "      return col.split('_')[-1]\n",
        "  return np.nan\n",
        "\n",
        "# Apply the function to create a new column\n",
        "df['conn_state'] = df.apply(get_state, axis=1)"
      ]
    },
    {
      "cell_type": "code",
      "execution_count": null,
      "id": "98ea50c7",
      "metadata": {
        "id": "98ea50c7",
        "outputId": "603d5298-f5de-480c-db53-d18a45ff57c0"
      },
      "outputs": [
        {
          "data": {
            "image/png": "[encoded data removed]",
            "text/plain": [
              "<Figure size 1008x720 with 2 Axes>"
            ]
          },
          "metadata": {
            "needs_background": "light"
          },
          "output_type": "display_data"
        }
      ],
      "source": [
        "# Set up the figure and axes\n",
        "fig, ax = plt.subplots(nrows=2, ncols=1, figsize=(14, 10))\n",
        "\n",
        "# Scatter plot of orig_pkts vs orig_ip_bytes\n",
        "sns.scatterplot(data=correlation_data, x='orig_pkts', y='orig_ip_bytes', hue='resp_pkts', palette='viridis', ax=ax[0])\n",
        "ax[0].set_title('Scatter plot of Original Packets vs Original IP Bytes')\n",
        "ax[0].set_xlabel('Original Packets')\n",
        "ax[0].set_ylabel('Original IP Bytes')\n",
        "\n",
        "# Distribution of conn_state\n",
        "sns.countplot(data=df, y='conn_state', ax=ax[1], order=df['conn_state'].value_counts().index)\n",
        "ax[1].set_title('Distribution of Connection States')\n",
        "ax[1].set_xlabel('Count')\n",
        "ax[1].set_ylabel('Connection State')\n",
        "\n",
        "plt.tight_layout()\n",
        "plt.show()"
      ]
    },
    {
      "cell_type": "markdown",
      "id": "1d66389f",
      "metadata": {
        "id": "1d66389f"
      },
      "source": [
        "<b>Insights:</b>\n",
        "\n",
        "1. **Scatter plot of Original Packets vs Original IP Bytes**: As expected from the correlation matrix, there's a clear trend that as the number of original packets increases, the original IP bytes also increase. The color intensity (representing resp_pkts) adds another dimension, showing that as both original packets and bytes increase, the response packets generally increase.\n",
        "\n",
        "2. **Distribution of Connection States**: The most frequent connection state is S0, followed by OTH. The S0 state indicates connection attempts where the server never replied to the initial SYN packet from the client. This could be indicative of potential scanning activity."
      ]
    },
    {
      "cell_type": "code",
      "execution_count": null,
      "id": "909615f2",
      "metadata": {
        "id": "909615f2",
        "outputId": "09f7af70-38eb-4bb9-d8cf-c2ba889d270a"
      },
      "outputs": [
        {
          "data": {
            "image/png": "[encoded data removed]",
            "text/plain": [
              "<Figure size 1080x1080 with 42 Axes>"
            ]
          },
          "metadata": {
            "needs_background": "light"
          },
          "output_type": "display_data"
        }
      ],
      "source": [
        "# Sample a subset of the data for visualization\n",
        "sample_data = correlation_data.sample(n=min(1000, len(correlation_data)), random_state=42)\n",
        "\n",
        "# Pair plot for selected numerical features\n",
        "pairplot = sns.pairplot(sample_data, diag_kind='kde')\n",
        "pairplot.fig.suptitle('Pair Plots of Selected Numerical Features', y=1.02)\n",
        "plt.show()"
      ]
    },
    {
      "cell_type": "markdown",
      "id": "c08234f8",
      "metadata": {
        "id": "c08234f8"
      },
      "source": [
        "<b>Insights<b>:\n",
        "1. **Pair Plots of Selected Numerical Features**:\n",
        "    The diagonal KDE plots confirm our earlier observations regarding the distribution of features.\n",
        "    \n",
        "    Scatter plots between orig_pkts vs orig_ip_bytes, and resp_pkts vs resp_ip_bytes show a linear relationship, affirming the correlation we identified earlier.\n",
        "    \n",
        "    The other scatter plots provide an opportunity to identify potential patterns or clusters. For instance, there seems to be a cluster at the lower end of orig_bytes vs orig_ip_bytes, indicating a set of connections with small byte counts but varying IP bytes."
      ]
    },
    {
      "cell_type": "markdown",
      "id": "73619fc6",
      "metadata": {
        "id": "73619fc6"
      },
      "source": [
        "<center><h1>Feature Selection and Processing </center>"
      ]
    },
    {
      "cell_type": "code",
      "execution_count": null,
      "id": "aaba9f69",
      "metadata": {
        "id": "aaba9f69",
        "outputId": "6c9e3b9c-8487-445d-ef19-735ee66bec3d"
      },
      "outputs": [
        {
          "data": {
            "text/plain": [
              "PartOfAHorizontalPortScan     825939\n",
              "Okiru                         262690\n",
              "-   Benign   -                146271\n",
              "DDoS                          138755\n",
              "Benign                         53475\n",
              "C&C                            15098\n",
              "Attack                          3915\n",
              "C&C-HeartBeat                    349\n",
              "C&C-FileDownload                  43\n",
              "C&C-Torii                         25\n",
              "FileDownload                      12\n",
              "C&C-HeartBeat-FileDownload         8\n",
              "C&C-Mirai                          1\n",
              "Name: label, dtype: int64"
            ]
          },
          "execution_count": 200,
          "metadata": {},
          "output_type": "execute_result"
        }
      ],
      "source": [
        "df.label.value_counts()"
      ]
    },
    {
      "cell_type": "code",
      "execution_count": null,
      "id": "73e35ae7",
      "metadata": {
        "id": "73e35ae7"
      },
      "outputs": [],
      "source": [
        "value = 'C&C'\n",
        "\n",
        "replace_values = {'C&C-HeartBeat':value,\n",
        "                 'C&C-Torii': value,\n",
        "                 'C&C-Mirai' : value,\n",
        "                 'C&C-FileDownload':value,\n",
        "                 'C&C-HeartBeat-FileDownload':value,\n",
        "                 'Attack':value,\n",
        "                 'FileDownload':value,\n",
        "                 '-   Benign   -' : 'Benign'\n",
        "\n",
        "                 }\n",
        "\n",
        "df['label'] = df['label'].map(lambda x: replace_values.get(x, x))"
      ]
    },
    {
      "cell_type": "code",
      "execution_count": null,
      "id": "90578399",
      "metadata": {
        "id": "90578399",
        "outputId": "c86a939d-4361-4732-c01f-ebc2a5e2c459"
      },
      "outputs": [
        {
          "data": {
            "text/html": [
              "<div>\n",
              "<style scoped>\n",
              "    .dataframe tbody tr th:only-of-type {\n",
              "        vertical-align: middle;\n",
              "    }\n",
              "\n",
              "    .dataframe tbody tr th {\n",
              "        vertical-align: top;\n",
              "    }\n",
              "\n",
              "    .dataframe thead th {\n",
              "        text-align: right;\n",
              "    }\n",
              "</style>\n",
              "<table border=\"1\" class=\"dataframe\">\n",
              "  <thead>\n",
              "    <tr style=\"text-align: right;\">\n",
              "      <th></th>\n",
              "      <th>ts</th>\n",
              "      <th>id.orig_h</th>\n",
              "      <th>duration</th>\n",
              "      <th>orig_bytes</th>\n",
              "      <th>resp_bytes</th>\n",
              "      <th>missed_bytes</th>\n",
              "      <th>orig_pkts</th>\n",
              "      <th>orig_ip_bytes</th>\n",
              "      <th>resp_pkts</th>\n",
              "      <th>resp_ip_bytes</th>\n",
              "      <th>...</th>\n",
              "      <th>conn_state_RSTOS0</th>\n",
              "      <th>conn_state_RSTR</th>\n",
              "      <th>conn_state_RSTRH</th>\n",
              "      <th>conn_state_S0</th>\n",
              "      <th>conn_state_S1</th>\n",
              "      <th>conn_state_S2</th>\n",
              "      <th>conn_state_S3</th>\n",
              "      <th>conn_state_SF</th>\n",
              "      <th>conn_state_SH</th>\n",
              "      <th>conn_state_SHR</th>\n",
              "    </tr>\n",
              "  </thead>\n",
              "  <tbody>\n",
              "    <tr>\n",
              "      <th>0</th>\n",
              "      <td>1.540470e+09</td>\n",
              "      <td>192.168.1.132</td>\n",
              "      <td>0.003497</td>\n",
              "      <td>0.0</td>\n",
              "      <td>0.0</td>\n",
              "      <td>0.0</td>\n",
              "      <td>5.0</td>\n",
              "      <td>212.0</td>\n",
              "      <td>3.0</td>\n",
              "      <td>144.0</td>\n",
              "      <td>...</td>\n",
              "      <td>0</td>\n",
              "      <td>0</td>\n",
              "      <td>0</td>\n",
              "      <td>0</td>\n",
              "      <td>0</td>\n",
              "      <td>0</td>\n",
              "      <td>0</td>\n",
              "      <td>1</td>\n",
              "      <td>0</td>\n",
              "      <td>0</td>\n",
              "    </tr>\n",
              "    <tr>\n",
              "      <th>1</th>\n",
              "      <td>1.540470e+09</td>\n",
              "      <td>192.168.1.132</td>\n",
              "      <td>0.036724</td>\n",
              "      <td>34.0</td>\n",
              "      <td>311.0</td>\n",
              "      <td>0.0</td>\n",
              "      <td>1.0</td>\n",
              "      <td>62.0</td>\n",
              "      <td>1.0</td>\n",
              "      <td>339.0</td>\n",
              "      <td>...</td>\n",
              "      <td>0</td>\n",
              "      <td>0</td>\n",
              "      <td>0</td>\n",
              "      <td>0</td>\n",
              "      <td>0</td>\n",
              "      <td>0</td>\n",
              "      <td>0</td>\n",
              "      <td>1</td>\n",
              "      <td>0</td>\n",
              "      <td>0</td>\n",
              "    </tr>\n",
              "    <tr>\n",
              "      <th>2</th>\n",
              "      <td>1.540469e+09</td>\n",
              "      <td>192.168.1.132</td>\n",
              "      <td>384.518261</td>\n",
              "      <td>15072.0</td>\n",
              "      <td>0.0</td>\n",
              "      <td>0.0</td>\n",
              "      <td>48.0</td>\n",
              "      <td>16416.0</td>\n",
              "      <td>0.0</td>\n",
              "      <td>0.0</td>\n",
              "      <td>...</td>\n",
              "      <td>0</td>\n",
              "      <td>0</td>\n",
              "      <td>0</td>\n",
              "      <td>1</td>\n",
              "      <td>0</td>\n",
              "      <td>0</td>\n",
              "      <td>0</td>\n",
              "      <td>0</td>\n",
              "      <td>0</td>\n",
              "      <td>0</td>\n",
              "    </tr>\n",
              "    <tr>\n",
              "      <th>3</th>\n",
              "      <td>1.540470e+09</td>\n",
              "      <td>192.168.1.132</td>\n",
              "      <td>0.270332</td>\n",
              "      <td>48.0</td>\n",
              "      <td>48.0</td>\n",
              "      <td>0.0</td>\n",
              "      <td>1.0</td>\n",
              "      <td>76.0</td>\n",
              "      <td>1.0</td>\n",
              "      <td>76.0</td>\n",
              "      <td>...</td>\n",
              "      <td>0</td>\n",
              "      <td>0</td>\n",
              "      <td>0</td>\n",
              "      <td>0</td>\n",
              "      <td>0</td>\n",
              "      <td>0</td>\n",
              "      <td>0</td>\n",
              "      <td>1</td>\n",
              "      <td>0</td>\n",
              "      <td>0</td>\n",
              "    </tr>\n",
              "    <tr>\n",
              "      <th>4</th>\n",
              "      <td>1.540470e+09</td>\n",
              "      <td>192.168.1.132</td>\n",
              "      <td>0.111429</td>\n",
              "      <td>48.0</td>\n",
              "      <td>48.0</td>\n",
              "      <td>0.0</td>\n",
              "      <td>1.0</td>\n",
              "      <td>76.0</td>\n",
              "      <td>1.0</td>\n",
              "      <td>76.0</td>\n",
              "      <td>...</td>\n",
              "      <td>0</td>\n",
              "      <td>0</td>\n",
              "      <td>0</td>\n",
              "      <td>0</td>\n",
              "      <td>0</td>\n",
              "      <td>0</td>\n",
              "      <td>0</td>\n",
              "      <td>1</td>\n",
              "      <td>0</td>\n",
              "      <td>0</td>\n",
              "    </tr>\n",
              "    <tr>\n",
              "      <th>...</th>\n",
              "      <td>...</td>\n",
              "      <td>...</td>\n",
              "      <td>...</td>\n",
              "      <td>...</td>\n",
              "      <td>...</td>\n",
              "      <td>...</td>\n",
              "      <td>...</td>\n",
              "      <td>...</td>\n",
              "      <td>...</td>\n",
              "      <td>...</td>\n",
              "      <td>...</td>\n",
              "      <td>...</td>\n",
              "      <td>...</td>\n",
              "      <td>...</td>\n",
              "      <td>...</td>\n",
              "      <td>...</td>\n",
              "      <td>...</td>\n",
              "      <td>...</td>\n",
              "      <td>...</td>\n",
              "      <td>...</td>\n",
              "      <td>...</td>\n",
              "    </tr>\n",
              "    <tr>\n",
              "      <th>1446616</th>\n",
              "      <td>1.532526e+09</td>\n",
              "      <td>192.168.100.111</td>\n",
              "      <td>0.000000</td>\n",
              "      <td>0.0</td>\n",
              "      <td>0.0</td>\n",
              "      <td>0.0</td>\n",
              "      <td>1.0</td>\n",
              "      <td>40.0</td>\n",
              "      <td>0.0</td>\n",
              "      <td>0.0</td>\n",
              "      <td>...</td>\n",
              "      <td>0</td>\n",
              "      <td>0</td>\n",
              "      <td>0</td>\n",
              "      <td>1</td>\n",
              "      <td>0</td>\n",
              "      <td>0</td>\n",
              "      <td>0</td>\n",
              "      <td>0</td>\n",
              "      <td>0</td>\n",
              "      <td>0</td>\n",
              "    </tr>\n",
              "    <tr>\n",
              "      <th>1446617</th>\n",
              "      <td>1.532526e+09</td>\n",
              "      <td>192.168.100.111</td>\n",
              "      <td>0.000000</td>\n",
              "      <td>0.0</td>\n",
              "      <td>0.0</td>\n",
              "      <td>0.0</td>\n",
              "      <td>1.0</td>\n",
              "      <td>40.0</td>\n",
              "      <td>0.0</td>\n",
              "      <td>0.0</td>\n",
              "      <td>...</td>\n",
              "      <td>0</td>\n",
              "      <td>0</td>\n",
              "      <td>0</td>\n",
              "      <td>1</td>\n",
              "      <td>0</td>\n",
              "      <td>0</td>\n",
              "      <td>0</td>\n",
              "      <td>0</td>\n",
              "      <td>0</td>\n",
              "      <td>0</td>\n",
              "    </tr>\n",
              "    <tr>\n",
              "      <th>1446618</th>\n",
              "      <td>1.532526e+09</td>\n",
              "      <td>192.168.100.111</td>\n",
              "      <td>0.000000</td>\n",
              "      <td>0.0</td>\n",
              "      <td>0.0</td>\n",
              "      <td>0.0</td>\n",
              "      <td>1.0</td>\n",
              "      <td>40.0</td>\n",
              "      <td>0.0</td>\n",
              "      <td>0.0</td>\n",
              "      <td>...</td>\n",
              "      <td>0</td>\n",
              "      <td>0</td>\n",
              "      <td>0</td>\n",
              "      <td>1</td>\n",
              "      <td>0</td>\n",
              "      <td>0</td>\n",
              "      <td>0</td>\n",
              "      <td>0</td>\n",
              "      <td>0</td>\n",
              "      <td>0</td>\n",
              "    </tr>\n",
              "    <tr>\n",
              "      <th>1446619</th>\n",
              "      <td>1.532526e+09</td>\n",
              "      <td>192.168.100.111</td>\n",
              "      <td>0.000000</td>\n",
              "      <td>0.0</td>\n",
              "      <td>0.0</td>\n",
              "      <td>0.0</td>\n",
              "      <td>1.0</td>\n",
              "      <td>40.0</td>\n",
              "      <td>0.0</td>\n",
              "      <td>0.0</td>\n",
              "      <td>...</td>\n",
              "      <td>0</td>\n",
              "      <td>0</td>\n",
              "      <td>0</td>\n",
              "      <td>1</td>\n",
              "      <td>0</td>\n",
              "      <td>0</td>\n",
              "      <td>0</td>\n",
              "      <td>0</td>\n",
              "      <td>0</td>\n",
              "      <td>0</td>\n",
              "    </tr>\n",
              "    <tr>\n",
              "      <th>1446620</th>\n",
              "      <td>1.532526e+09</td>\n",
              "      <td>192.168.100.111</td>\n",
              "      <td>0.000000</td>\n",
              "      <td>0.0</td>\n",
              "      <td>0.0</td>\n",
              "      <td>0.0</td>\n",
              "      <td>1.0</td>\n",
              "      <td>40.0</td>\n",
              "      <td>0.0</td>\n",
              "      <td>0.0</td>\n",
              "      <td>...</td>\n",
              "      <td>0</td>\n",
              "      <td>0</td>\n",
              "      <td>0</td>\n",
              "      <td>1</td>\n",
              "      <td>0</td>\n",
              "      <td>0</td>\n",
              "      <td>0</td>\n",
              "      <td>0</td>\n",
              "      <td>0</td>\n",
              "      <td>0</td>\n",
              "    </tr>\n",
              "  </tbody>\n",
              "</table>\n",
              "<p>1446581 rows × 27 columns</p>\n",
              "</div>"
            ],
            "text/plain": [
              "                   ts        id.orig_h    duration  orig_bytes  resp_bytes  \\\n",
              "0        1.540470e+09    192.168.1.132    0.003497         0.0         0.0   \n",
              "1        1.540470e+09    192.168.1.132    0.036724        34.0       311.0   \n",
              "2        1.540469e+09    192.168.1.132  384.518261     15072.0         0.0   \n",
              "3        1.540470e+09    192.168.1.132    0.270332        48.0        48.0   \n",
              "4        1.540470e+09    192.168.1.132    0.111429        48.0        48.0   \n",
              "...               ...              ...         ...         ...         ...   \n",
              "1446616  1.532526e+09  192.168.100.111    0.000000         0.0         0.0   \n",
              "1446617  1.532526e+09  192.168.100.111    0.000000         0.0         0.0   \n",
              "1446618  1.532526e+09  192.168.100.111    0.000000         0.0         0.0   \n",
              "1446619  1.532526e+09  192.168.100.111    0.000000         0.0         0.0   \n",
              "1446620  1.532526e+09  192.168.100.111    0.000000         0.0         0.0   \n",
              "\n",
              "         missed_bytes  orig_pkts  orig_ip_bytes  resp_pkts  resp_ip_bytes  \\\n",
              "0                 0.0        5.0          212.0        3.0          144.0   \n",
              "1                 0.0        1.0           62.0        1.0          339.0   \n",
              "2                 0.0       48.0        16416.0        0.0            0.0   \n",
              "3                 0.0        1.0           76.0        1.0           76.0   \n",
              "4                 0.0        1.0           76.0        1.0           76.0   \n",
              "...               ...        ...            ...        ...            ...   \n",
              "1446616           0.0        1.0           40.0        0.0            0.0   \n",
              "1446617           0.0        1.0           40.0        0.0            0.0   \n",
              "1446618           0.0        1.0           40.0        0.0            0.0   \n",
              "1446619           0.0        1.0           40.0        0.0            0.0   \n",
              "1446620           0.0        1.0           40.0        0.0            0.0   \n",
              "\n",
              "         ... conn_state_RSTOS0  conn_state_RSTR  conn_state_RSTRH  \\\n",
              "0        ...                 0                0                 0   \n",
              "1        ...                 0                0                 0   \n",
              "2        ...                 0                0                 0   \n",
              "3        ...                 0                0                 0   \n",
              "4        ...                 0                0                 0   \n",
              "...      ...               ...              ...               ...   \n",
              "1446616  ...                 0                0                 0   \n",
              "1446617  ...                 0                0                 0   \n",
              "1446618  ...                 0                0                 0   \n",
              "1446619  ...                 0                0                 0   \n",
              "1446620  ...                 0                0                 0   \n",
              "\n",
              "         conn_state_S0  conn_state_S1  conn_state_S2  conn_state_S3  \\\n",
              "0                    0              0              0              0   \n",
              "1                    0              0              0              0   \n",
              "2                    1              0              0              0   \n",
              "3                    0              0              0              0   \n",
              "4                    0              0              0              0   \n",
              "...                ...            ...            ...            ...   \n",
              "1446616              1              0              0              0   \n",
              "1446617              1              0              0              0   \n",
              "1446618              1              0              0              0   \n",
              "1446619              1              0              0              0   \n",
              "1446620              1              0              0              0   \n",
              "\n",
              "         conn_state_SF  conn_state_SH  conn_state_SHR  \n",
              "0                    1              0               0  \n",
              "1                    1              0               0  \n",
              "2                    0              0               0  \n",
              "3                    1              0               0  \n",
              "4                    1              0               0  \n",
              "...                ...            ...             ...  \n",
              "1446616              0              0               0  \n",
              "1446617              0              0               0  \n",
              "1446618              0              0               0  \n",
              "1446619              0              0               0  \n",
              "1446620              0              0               0  \n",
              "\n",
              "[1446581 rows x 27 columns]"
            ]
          },
          "execution_count": 15,
          "metadata": {},
          "output_type": "execute_result"
        }
      ],
      "source": [
        "df"
      ]
    },
    {
      "cell_type": "code",
      "execution_count": null,
      "id": "585eb580",
      "metadata": {
        "scrolled": true,
        "id": "585eb580",
        "outputId": "5eb5d62b-1271-422a-f9dc-40e9aae271f2"
      },
      "outputs": [
        {
          "data": {
            "text/plain": [
              "PartOfAHorizontalPortScan    825939\n",
              "Okiru                        262690\n",
              "Benign                       199746\n",
              "DDoS                         138755\n",
              "C&C                           19451\n",
              "Name: label, dtype: int64"
            ]
          },
          "execution_count": 16,
          "metadata": {},
          "output_type": "execute_result"
        }
      ],
      "source": [
        "df.label.value_counts()"
      ]
    },
    {
      "cell_type": "code",
      "execution_count": null,
      "id": "7acb2686",
      "metadata": {
        "id": "7acb2686"
      },
      "outputs": [],
      "source": [
        "# Filtering all the rows where the duration of the connection is greater than 0 seconds\n",
        "df = df[df['duration']!=-1].copy(deep = True)"
      ]
    },
    {
      "cell_type": "code",
      "execution_count": null,
      "id": "0f470da2",
      "metadata": {
        "id": "0f470da2"
      },
      "outputs": [],
      "source": [
        "# Dropping all un-necessary columns and duraion column as majority of the\n",
        "df.drop(['ts','id.orig_h' ], axis = 1, inplace =True)"
      ]
    },
    {
      "cell_type": "code",
      "execution_count": null,
      "id": "4aa119c1",
      "metadata": {
        "id": "4aa119c1",
        "outputId": "76dabe3d-b00c-4c7a-bb6f-d21de73d166c"
      },
      "outputs": [
        {
          "data": {
            "text/plain": [
              "PartOfAHorizontalPortScan    476284\n",
              "Okiru                        237732\n",
              "Benign                       199381\n",
              "DDoS                         113796\n",
              "C&C                           19267\n",
              "Name: label, dtype: int64"
            ]
          },
          "execution_count": 19,
          "metadata": {},
          "output_type": "execute_result"
        }
      ],
      "source": [
        "df['label'].value_counts()"
      ]
    },
    {
      "cell_type": "code",
      "execution_count": null,
      "id": "e48f0f83",
      "metadata": {
        "id": "e48f0f83"
      },
      "outputs": [],
      "source": [
        "# Considering a stratified sample for  modelling\n",
        "random_state = 4\n",
        "# Portscan attack sample\n",
        "df_port = df[df['label']=='PartOfAHorizontalPortScan'].sample(frac = 0.27, random_state = random_state)\n",
        "\n",
        "# Considering complete Okiru attack category\n",
        "df_okiru = df[df['label']=='Okiru'].sample(frac=0.55, random_state = random_state)\n",
        "\n",
        "# Considering complete Benign category\n",
        "df_benign = df[df['label']=='Benign'].sample(frac=0.65, random_state = random_state)\n",
        "\n",
        "# Considering complete DDos category\n",
        "df_ddos = df[df['label']=='DDoS']\n",
        "\n",
        "# Considering complete C&C category due to low sample size\n",
        "df_cc = df[df['label']=='C&C']"
      ]
    },
    {
      "cell_type": "code",
      "execution_count": null,
      "id": "a3f8255d",
      "metadata": {
        "id": "a3f8255d"
      },
      "outputs": [],
      "source": [
        "df_sample = pd.concat([df_port,df_okiru,df_benign,df_ddos,df_cc], axis =0, ignore_index=True)"
      ]
    },
    {
      "cell_type": "code",
      "execution_count": null,
      "id": "04af6a41",
      "metadata": {
        "id": "04af6a41",
        "outputId": "fb224e7e-2da5-4d3b-ae15-1218657c50ab"
      },
      "outputs": [
        {
          "data": {
            "text/plain": [
              "Okiru                        130753\n",
              "Benign                       129598\n",
              "PartOfAHorizontalPortScan    128597\n",
              "DDoS                         113796\n",
              "C&C                           19267\n",
              "Name: label, dtype: int64"
            ]
          },
          "execution_count": 22,
          "metadata": {},
          "output_type": "execute_result"
        }
      ],
      "source": [
        "df_sample['label'].value_counts()"
      ]
    },
    {
      "cell_type": "code",
      "execution_count": null,
      "id": "cd26c0bd",
      "metadata": {
        "id": "cd26c0bd"
      },
      "outputs": [],
      "source": [
        "# Saving the sampled dataframe\n",
        "df_sample.to_csv('data/iot_23_sample.csv', index = False)"
      ]
    },
    {
      "cell_type": "code",
      "execution_count": 17,
      "id": "dda7a5cd",
      "metadata": {
        "id": "dda7a5cd"
      },
      "outputs": [],
      "source": [
        "df_sample = pd.read_csv(r'data/iot_23_sample.csv')"
      ]
    },
    {
      "cell_type": "code",
      "execution_count": 18,
      "id": "d2661c4a",
      "metadata": {
        "id": "d2661c4a"
      },
      "outputs": [],
      "source": [
        "df = df_sample.copy(deep = True)"
      ]
    },
    {
      "cell_type": "code",
      "execution_count": 19,
      "id": "aa22107e",
      "metadata": {
        "colab": {
          "base_uri": "https://localhost:8080/"
        },
        "id": "aa22107e",
        "outputId": "d25de06b-dfdd-478b-e95d-d99e6ba7e8bf"
      },
      "outputs": [
        {
          "output_type": "execute_result",
          "data": {
            "text/plain": [
              "Index(['duration', 'orig_bytes', 'resp_bytes', 'missed_bytes', 'orig_pkts',\n",
              "       'orig_ip_bytes', 'resp_pkts', 'resp_ip_bytes', 'label', 'proto_icmp',\n",
              "       'proto_tcp', 'proto_udp', 'conn_state_OTH', 'conn_state_REJ',\n",
              "       'conn_state_RSTO', 'conn_state_RSTOS0', 'conn_state_RSTR',\n",
              "       'conn_state_RSTRH', 'conn_state_S0', 'conn_state_S1', 'conn_state_S2',\n",
              "       'conn_state_S3', 'conn_state_SF', 'conn_state_SH', 'conn_state_SHR'],\n",
              "      dtype='object')"
            ]
          },
          "metadata": {},
          "execution_count": 19
        }
      ],
      "source": [
        "df.columns"
      ]
    },
    {
      "cell_type": "code",
      "execution_count": 8,
      "id": "68f2d23c",
      "metadata": {
        "id": "68f2d23c"
      },
      "outputs": [],
      "source": [
        "# Encoding the labels\n",
        "le = LabelEncoder()\n",
        "encoded_labels = le.fit_transform(df['label'])\n",
        "df['label'] = encoded_labels"
      ]
    },
    {
      "cell_type": "code",
      "execution_count": 9,
      "id": "8c40de1a",
      "metadata": {
        "id": "8c40de1a"
      },
      "outputs": [],
      "source": [
        "X = df.loc[:, df.columns != 'label']\n",
        "y = df['label']"
      ]
    },
    {
      "cell_type": "code",
      "execution_count": 10,
      "id": "b692a1d0",
      "metadata": {
        "id": "b692a1d0"
      },
      "outputs": [],
      "source": [
        "# Performing train test split for the data\n",
        "X_train, X_test, y_train, y_test = train_test_split(X, y, test_size=0.20, random_state=42)"
      ]
    },
    {
      "cell_type": "code",
      "execution_count": 11,
      "id": "217d9658",
      "metadata": {
        "id": "217d9658"
      },
      "outputs": [],
      "source": [
        "# Creating a eval dataset\n",
        "X_test, X_eval, y_test, y_eval = train_test_split(X_test, y_test, test_size=0.25, random_state=41)"
      ]
    },
    {
      "cell_type": "markdown",
      "id": "dd266d81",
      "metadata": {
        "id": "dd266d81"
      },
      "source": [
        "<h1><center> Modelling and Experimentation </h1></center>"
      ]
    },
    {
      "cell_type": "code",
      "execution_count": null,
      "id": "0bd9b2be",
      "metadata": {
        "id": "0bd9b2be"
      },
      "outputs": [],
      "source": [
        "# Decision tree Classifier\n",
        "treeclassifier = DecisionTreeClassifier()"
      ]
    },
    {
      "cell_type": "code",
      "execution_count": null,
      "id": "49441322",
      "metadata": {
        "id": "49441322",
        "outputId": "3be45d13-2c4e-410e-a475-fee9621ebc7d"
      },
      "outputs": [
        {
          "name": "stdout",
          "output_type": "stream",
          "text": [
            "0.7182575157722664\n"
          ]
        }
      ],
      "source": [
        "treeclassifier.fit(X_train, y_train)\n",
        "y_pred = treeclassifier.predict(X_test)\n",
        "score = treeclassifier.score(X_test,y_test)\n",
        "print(score)"
      ]
    },
    {
      "cell_type": "code",
      "execution_count": null,
      "id": "95dadb15",
      "metadata": {
        "id": "95dadb15",
        "outputId": "c0b94a63-0e45-460c-b354-5cb34218a9f8"
      },
      "outputs": [
        {
          "name": "stdout",
          "output_type": "stream",
          "text": [
            "              precision    recall  f1-score   support\n",
            "\n",
            "           0       0.75      0.82      0.78     19313\n",
            "           1       0.79      0.32      0.45      2806\n",
            "           2       1.00      1.00      1.00     17235\n",
            "           3       0.55      1.00      0.71     19603\n",
            "           4       0.93      0.14      0.24     19345\n",
            "\n",
            "    accuracy                           0.72     78302\n",
            "   macro avg       0.80      0.65      0.64     78302\n",
            "weighted avg       0.80      0.72      0.67     78302\n",
            "\n"
          ]
        }
      ],
      "source": [
        "print(classification_report(y_test, y_pred))"
      ]
    },
    {
      "cell_type": "code",
      "execution_count": null,
      "id": "32056605",
      "metadata": {
        "id": "32056605"
      },
      "outputs": [],
      "source": [
        "# XGBoost Classifier\n",
        "learning_rate_range = np.arange(0.01, 1, 0.05)\n",
        "test_XG = []\n",
        "train_XG = []\n",
        "for lr in learning_rate_range:\n",
        "    xgb_classifier = xgb.XGBClassifier(eta = lr)\n",
        "    xgb_classifier.fit(X_train, y_train)\n",
        "    train_XG.append(xgb_classifier.score(X_train, y_train))\n",
        "    test_XG.append(xgb_classifier.score(X_test, y_test))"
      ]
    },
    {
      "cell_type": "code",
      "execution_count": null,
      "id": "c258af17",
      "metadata": {
        "id": "c258af17",
        "outputId": "fab2e1bc-1b04-447c-8058-7241729c0f93"
      },
      "outputs": [
        {
          "data": {
            "image/png": "[encoded data removed]",
            "text/plain": [
              "<Figure size 720x504 with 1 Axes>"
            ]
          },
          "metadata": {
            "needs_background": "light"
          },
          "output_type": "display_data"
        }
      ],
      "source": [
        "fig = plt.figure(figsize=(10, 7))\n",
        "plt.plot(learning_rate_range, train_XG, c='black', label='Train')\n",
        "plt.plot(learning_rate_range, test_XG, c='m', label='Test')\n",
        "plt.xlabel('Learning rate')\n",
        "plt.xticks(learning_rate_range)\n",
        "plt.ylabel('Accuracy score')\n",
        "plt.ylim(0.6, 1)\n",
        "plt.legend(prop={'size': 12}, loc=3)\n",
        "plt.title('Accuracy score vs. Learning rate of XGBoost', size=14)\n",
        "plt.show()"
      ]
    },
    {
      "cell_type": "code",
      "execution_count": null,
      "id": "baa60b9e",
      "metadata": {
        "id": "baa60b9e",
        "outputId": "eca41aca-55ea-4305-c821-060e8e6d46cb"
      },
      "outputs": [
        {
          "data": {
            "text/plain": [
              "[0.7200199228627622,\n",
              " 0.7204285969707032,\n",
              " 0.7205052233659421,\n",
              " 0.7205052233659421,\n",
              " 0.720492452300069,\n",
              " 0.720492452300069,\n",
              " 0.7205052233659421,\n",
              " 0.7204285969707032,\n",
              " 0.7204541391024495,\n",
              " 0.7204541391024495,\n",
              " 0.7203775127072105,\n",
              " 0.720249802048479,\n",
              " 0.7201987177849863,\n",
              " 0.7200710071262547,\n",
              " 0.71993052540165,\n",
              " 0.7199049832699037,\n",
              " 0.7198538990064111,\n",
              " 0.7198028147429184,\n",
              " 0.7197900436770452,\n",
              " 0.7197645015452989]"
            ]
          },
          "execution_count": 223,
          "metadata": {},
          "output_type": "execute_result"
        }
      ],
      "source": [
        "test_XG"
      ]
    },
    {
      "cell_type": "code",
      "execution_count": null,
      "id": "06f2a8f8",
      "metadata": {
        "id": "06f2a8f8",
        "outputId": "f7eab0c0-11ec-47c2-e9c1-e1f3f7700a51"
      },
      "outputs": [
        {
          "name": "stdout",
          "output_type": "stream",
          "text": [
            "Model Accuracy 0.5344180225281602\n",
            "Classification Report:\n",
            "              precision    recall  f1-score   support\n",
            "\n",
            "           0       0.97      0.08      0.15     19313\n",
            "           1       0.78      0.28      0.41      2806\n",
            "           2       0.98      1.00      0.99     17235\n",
            "           3       0.39      1.00      0.57     19603\n",
            "           4       0.31      0.14      0.19     19345\n",
            "\n",
            "    accuracy                           0.53     78302\n",
            "   macro avg       0.69      0.50      0.46     78302\n",
            "weighted avg       0.66      0.53      0.46     78302\n",
            "\n"
          ]
        }
      ],
      "source": [
        "# Naive Bayse Classifier\n",
        "clf = GaussianNB()\n",
        "\n",
        "clf.fit(X_train, y_train)\n",
        "print('Model Accuracy',clf.score(X_test, y_test))\n",
        "\n",
        "\n",
        "y_pred = clf.predict(X_test)\n",
        "print(\"Classification Report:\")\n",
        "print(classification_report(y_test, y_pred))"
      ]
    },
    {
      "cell_type": "code",
      "execution_count": null,
      "id": "31648d96",
      "metadata": {
        "scrolled": true,
        "id": "31648d96",
        "outputId": "5c48e4e4-ccc0-433e-fe8b-0747351128e0"
      },
      "outputs": [
        {
          "name": "stdout",
          "output_type": "stream",
          "text": [
            "0.6968021251053613\n",
            "Classification Report:\n",
            "              precision    recall  f1-score   support\n",
            "\n",
            "           0       0.93      0.57      0.71     19313\n",
            "           1       0.92      0.28      0.43      2806\n",
            "           2       1.00      1.00      1.00     17235\n",
            "           3       0.55      1.00      0.71     19603\n",
            "           4       0.48      0.31      0.38     19345\n",
            "\n",
            "    accuracy                           0.70     78302\n",
            "   macro avg       0.77      0.63      0.64     78302\n",
            "weighted avg       0.74      0.70      0.68     78302\n",
            "\n"
          ]
        }
      ],
      "source": [
        "# Random forest classifier\n",
        "classifier_rf = RandomForestClassifier(random_state=90, n_jobs=-1, max_depth=5,\n",
        "                                       n_estimators=100, oob_score=True)\n",
        "\n",
        "classifier_rf.fit(X_train, y_train)\n",
        "print(classifier_rf.score(X_test, y_test))\n",
        "\n",
        "\n",
        "y_pred = classifier_rf.predict(X_test)\n",
        "print(\"Classification Report:\")\n",
        "print(classification_report(y_test, y_pred))"
      ]
    },
    {
      "cell_type": "code",
      "execution_count": null,
      "id": "ed968fd6",
      "metadata": {
        "id": "ed968fd6",
        "outputId": "b51daf8a-1e51-48b8-f4ef-6725269d8eb9"
      },
      "outputs": [
        {
          "name": "stdout",
          "output_type": "stream",
          "text": [
            "0.7175678782151158\n",
            "Classification Report:\n",
            "              precision    recall  f1-score   support\n",
            "\n",
            "           0       0.75      0.82      0.78     19313\n",
            "           1       0.76      0.31      0.44      2806\n",
            "           2       1.00      1.00      1.00     17235\n",
            "           3       0.55      1.00      0.71     19603\n",
            "           4       0.94      0.14      0.24     19345\n",
            "\n",
            "    accuracy                           0.72     78302\n",
            "   macro avg       0.80      0.65      0.63     78302\n",
            "weighted avg       0.80      0.72      0.66     78302\n",
            "\n"
          ]
        }
      ],
      "source": [
        "# KNN classifier\n",
        "from sklearn.neighbors import KNeighborsClassifier\n",
        "knn = KNeighborsClassifier(n_neighbors=3)\n",
        "\n",
        "knn.fit(X_train, y_train)\n",
        "print(knn.score(X_test, y_test))\n",
        "\n",
        "\n",
        "y_pred = knn.predict(X_test)\n",
        "print(\"Classification Report:\")\n",
        "print(classification_report(y_test, y_pred))"
      ]
    },
    {
      "cell_type": "code",
      "execution_count": null,
      "id": "42be9511",
      "metadata": {
        "id": "42be9511",
        "outputId": "b7b1da91-cd0d-4dff-b893-caa1a8ea93be"
      },
      "outputs": [
        {
          "name": "stdout",
          "output_type": "stream",
          "text": [
            "[LightGBM] [Info] Auto-choosing row-wise multi-threading, the overhead of testing was 0.020397 seconds.\n",
            "You can set `force_row_wise=true` to remove the overhead.\n",
            "And if memory is not enough, you can set `force_col_wise=true`.\n",
            "[LightGBM] [Info] Total Bins 1084\n",
            "[LightGBM] [Info] Number of data points in the train set: 417608, number of used features: 20\n",
            "[LightGBM] [Info] Start training from score -1.392299\n",
            "[LightGBM] [Info] Start training from score -3.293510\n",
            "[LightGBM] [Info] Start training from score -1.525036\n",
            "[LightGBM] [Info] Start training from score -1.384830\n",
            "[LightGBM] [Info] Start training from score -1.400824\n",
            "[LightGBM] [Warning] No further splits with positive gain, best gain: -inf\n",
            "[LightGBM] [Warning] No further splits with positive gain, best gain: -inf\n",
            "0.7204669101683226\n",
            "Classification Report:\n",
            "              precision    recall  f1-score   support\n",
            "\n",
            "           0       0.75      0.83      0.79     19313\n",
            "           1       1.00      0.28      0.44      2806\n",
            "           2       1.00      1.00      1.00     17235\n",
            "           3       0.55      1.00      0.71     19603\n",
            "           4       0.94      0.14      0.24     19345\n",
            "\n",
            "    accuracy                           0.72     78302\n",
            "   macro avg       0.85      0.65      0.64     78302\n",
            "weighted avg       0.81      0.72      0.67     78302\n",
            "\n"
          ]
        }
      ],
      "source": [
        "# LightGBM Classifier\n",
        "model = lgb.LGBMClassifier(learning_rate=0.09,max_depth=-5,random_state=42)\n",
        "model.fit(X_train,y_train,eval_set=[(X_test,y_test),(X_train,y_train)],\n",
        "          eval_metric='logloss')\n",
        "\n",
        "print(model.score(X_test, y_test))\n",
        "\n",
        "y_pred = model.predict(X_test)\n",
        "print(\"Classification Report:\")\n",
        "print(classification_report(y_test, y_pred))"
      ]
    },
    {
      "cell_type": "markdown",
      "id": "86273385",
      "metadata": {
        "id": "86273385"
      },
      "source": [
        "## Insights: Based on the above results, XGBoost seems to outperfrom other algorithms. Hence choosing XGB as candidate model"
      ]
    },
    {
      "cell_type": "markdown",
      "id": "46eb8e8c",
      "metadata": {
        "id": "46eb8e8c"
      },
      "source": [
        "### Candidate model (XGB) with K-fold cross-validation and hyperparameter tuning including Bayesian Optimization"
      ]
    },
    {
      "cell_type": "code",
      "execution_count": null,
      "id": "5276dead",
      "metadata": {
        "id": "5276dead"
      },
      "outputs": [],
      "source": [
        "# Combining both train and test data\n",
        "train_df = pd.concat([X_train,X_test], ignore_index=True)"
      ]
    },
    {
      "cell_type": "code",
      "execution_count": null,
      "id": "4e544dca",
      "metadata": {
        "id": "4e544dca"
      },
      "outputs": [],
      "source": [
        "label_df = pd.concat([y_train,y_test], ignore_index = True)"
      ]
    },
    {
      "cell_type": "code",
      "execution_count": null,
      "id": "3ec713aa",
      "metadata": {
        "id": "3ec713aa",
        "outputId": "21754fa9-9214-4cf7-9bc9-7a04524c284f"
      },
      "outputs": [
        {
          "name": "stdout",
          "output_type": "stream",
          "text": [
            "Best set of hyperparameters:  {'learning_rate': 0.1, 'max_depth': 7, 'subsample': 1}\n",
            "Best score:  0.7186787598097195\n"
          ]
        }
      ],
      "source": [
        "# Performing hyperparameter tuning using GridSearch CV\n",
        "# Define the hyperparameter grid\n",
        "param_grid = {\n",
        "    'max_depth': [3, 5, 7],\n",
        "    'learning_rate': [0.1, 0.01, 0.001],\n",
        "    'subsample': [0.5, 0.7, 1]\n",
        "}\n",
        "\n",
        "# Create the XGBoost model object\n",
        "xgb_model = xgb.XGBClassifier()\n",
        "\n",
        "# Create the GridSearchCV object\n",
        "grid_search = GridSearchCV(xgb_model, param_grid, cv=5, scoring='accuracy')\n",
        "\n",
        "# Fit the GridSearchCV object to the training data\n",
        "grid_search.fit(X_train, y_train)\n",
        "\n",
        "# Print the best set of hyperparameters and the corresponding score\n",
        "print(\"Best set of hyperparameters: \", grid_search.best_params_)\n",
        "print(\"Best score: \", grid_search.best_score_)"
      ]
    },
    {
      "cell_type": "code",
      "execution_count": null,
      "id": "0b23d4fb",
      "metadata": {
        "id": "0b23d4fb",
        "outputId": "d6710976-685c-49db-8083-bd4a432ce7b2"
      },
      "outputs": [
        {
          "name": "stdout",
          "output_type": "stream",
          "text": [
            "100%|██████████████████████████████████████████| 100/100 [11:53:41<00:00, 428.22s/trial, best loss: -0.718969167792543]\n",
            "Best set of hyperparameters:  {'learning_rate': 0.1269391127675015, 'max_depth': 6.0, 'subsample': 0.9109382577736544}\n"
          ]
        }
      ],
      "source": [
        "# Performing Bayesian optimization\n",
        "from sklearn.model_selection import cross_val_score\n",
        "from hyperopt import fmin, tpe, hp\n",
        "import hyperopt\n",
        "\n",
        "# Define the hyperparameter space\n",
        "space = {\n",
        "    'max_depth': hp.quniform('max_depth', 2, 8, 1),\n",
        "    'learning_rate': hp.loguniform('learning_rate', -5, -2),\n",
        "    'subsample': hp.uniform('subsample', 0.5, 1)\n",
        "}\n",
        "\n",
        "# Define the objective function to minimize\n",
        "def objective(params):\n",
        "    # Convert max_depth to integer\n",
        "    params['max_depth'] = int(params['max_depth'])\n",
        "\n",
        "    xgb_model = xgb.XGBClassifier(**params)\n",
        "\n",
        "    # Use cross-validation for better evaluation\n",
        "    scores = cross_val_score(xgb_model, train_df, label_df, cv=5, scoring='accuracy')\n",
        "    mean_score = scores.mean()\n",
        "\n",
        "    return {'loss': -mean_score, 'status': hyperopt.STATUS_OK}\n",
        "\n",
        "# Perform the optimization\n",
        "best_params = fmin(objective, space, algo=tpe.suggest, max_evals=100)\n",
        "print(\"Best set of hyperparameters: \", best_params)\n"
      ]
    },
    {
      "cell_type": "markdown",
      "id": "d981854b",
      "metadata": {
        "id": "d981854b"
      },
      "source": [
        "### Insights : Based on the above Bayesian Optimization, the above are the best set of hyperparameters for us"
      ]
    },
    {
      "cell_type": "markdown",
      "id": "48b576d4",
      "metadata": {
        "id": "48b576d4"
      },
      "source": [
        "# Building the Final Candidate Model"
      ]
    },
    {
      "cell_type": "code",
      "execution_count": null,
      "id": "b39bb5ed",
      "metadata": {
        "id": "b39bb5ed",
        "outputId": "60719ed8-78df-47c1-e80e-2fbebd982cf4"
      },
      "outputs": [
        {
          "data": {
            "text/plain": [
              "XGBClassifier(base_score=0.5, booster='gbtree', callbacks=None,\n",
              "              colsample_bylevel=1, colsample_bynode=1, colsample_bytree=1,\n",
              "              early_stopping_rounds=None, enable_categorical=False,\n",
              "              eval_metric=None, gamma=0, gpu_id=-1, grow_policy='depthwise',\n",
              "              importance_type=None, interaction_constraints='',\n",
              "              learning_rate=0.1269391127675015, max_bin=256,\n",
              "              max_cat_to_onehot=4, max_delta_step=0, max_depth=6, max_leaves=0,\n",
              "              min_child_weight=1, missing=nan, monotone_constraints='()',\n",
              "              n_estimators=100, n_jobs=-1, num_parallel_tree=1,\n",
              "              objective='multi:softprob', predictor='auto', random_state=0,\n",
              "              reg_alpha=0, ...)"
            ]
          },
          "execution_count": 79,
          "metadata": {},
          "output_type": "execute_result"
        }
      ],
      "source": [
        "# Defining the model object\n",
        "model = xgb.XGBClassifier(learning_rate = 0.1269391127675015,\n",
        "                          max_depth = 6,\n",
        "                          subsample =  0.9109382577736544,\n",
        "                          n_jobs =-1)\n",
        "\n",
        "model.fit(train_df,label_df)"
      ]
    },
    {
      "cell_type": "code",
      "execution_count": null,
      "id": "b5a0cbb6",
      "metadata": {
        "id": "b5a0cbb6",
        "outputId": "f6d3be35-f58c-403b-b13a-707f452d2957"
      },
      "outputs": [
        {
          "name": "stdout",
          "output_type": "stream",
          "text": [
            "Accuracy:\n",
            "0.7235738094325888\n",
            "Classification Report:\n",
            "              precision    recall  f1-score   support\n",
            "\n",
            "           0       0.75      0.84      0.79      6508\n",
            "           1       0.98      0.30      0.46       958\n",
            "           2       1.00      1.00      1.00      5684\n",
            "           3       0.55      1.00      0.71      6595\n",
            "           4       0.95      0.14      0.24      6356\n",
            "\n",
            "    accuracy                           0.72     26101\n",
            "   macro avg       0.85      0.65      0.64     26101\n",
            "weighted avg       0.81      0.72      0.67     26101\n",
            "\n"
          ]
        }
      ],
      "source": [
        "# Predictions on the final eval dataset\n",
        "print('Accuracy:')\n",
        "print(model.score(X_eval, y_eval))\n",
        "\n",
        "y_pred = model.predict(X_eval)\n",
        "print(\"Classification Report:\")\n",
        "print(classification_report(y_eval, y_pred))"
      ]
    },
    {
      "cell_type": "code",
      "execution_count": null,
      "id": "2f7ef9a9",
      "metadata": {
        "id": "2f7ef9a9",
        "outputId": "146cfd0f-f9ca-42c1-ed2e-dfc1482b9a73"
      },
      "outputs": [
        {
          "data": {
            "image/png": "[encoded data removed]",
            "text/plain": [
              "<Figure size 576x684 with 1 Axes>"
            ]
          },
          "metadata": {
            "needs_background": "light"
          },
          "output_type": "display_data"
        }
      ],
      "source": [
        "# Calculatin SHAP feature importance\n",
        "X_importance = X_eval\n",
        "\n",
        "# Explain model predictions using shap library:\n",
        "explainer = shap.TreeExplainer(model)\n",
        "shap_values = explainer.shap_values(X_importance)\n",
        "\n",
        "# Plot summary_plot\n",
        "shap.summary_plot(shap_values, X_importance, plot_type='bar')"
      ]
    },
    {
      "cell_type": "markdown",
      "id": "32eccebc",
      "metadata": {
        "id": "32eccebc"
      },
      "source": [
        "# <center> Binary Class Experimentation </center>"
      ]
    },
    {
      "cell_type": "code",
      "execution_count": 12,
      "id": "9b49d7ac",
      "metadata": {
        "colab": {
          "base_uri": "https://localhost:8080/"
        },
        "id": "9b49d7ac",
        "outputId": "52e892b9-83cd-48b3-a86b-b28c9be7f0f3"
      },
      "outputs": [
        {
          "output_type": "execute_result",
          "data": {
            "text/plain": [
              "array(['Benign', 'C&C', 'DDoS', 'Okiru', 'PartOfAHorizontalPortScan'],\n",
              "      dtype=object)"
            ]
          },
          "metadata": {},
          "execution_count": 12
        }
      ],
      "source": [
        "# Decoded labels across the dataset\n",
        "le.inverse_transform([0,1,2,3,4])"
      ]
    },
    {
      "cell_type": "code",
      "execution_count": 13,
      "id": "73f561fc",
      "metadata": {
        "id": "73f561fc"
      },
      "outputs": [],
      "source": [
        "import pandas as pd\n",
        "import itertools\n",
        "\n",
        "def generate_binary_class_dfs(df, target_column):\n",
        "    \"\"\"\n",
        "    Generates multiple dataframes for all combinations of binary classes.\n",
        "\n",
        "    Parameters:\n",
        "    df (pd.DataFrame): The original dataframe containing multiple classes.\n",
        "    target_column (str): The name of the column containing the class labels.\n",
        "\n",
        "    Returns:\n",
        "    dict: A dictionary where each key is a tuple of class labels and each value is a corresponding dataframe filtered for those classes.\n",
        "    \"\"\"\n",
        "    # Get all unique classes\n",
        "    unique_classes = df[target_column].unique()\n",
        "\n",
        "    # Generate all combinations of classes in pairs\n",
        "    class_combinations = itertools.combinations(unique_classes, 2)\n",
        "\n",
        "    # Create and store dataframes for each combination\n",
        "    binary_class_dfs = {}\n",
        "    for combo in class_combinations:\n",
        "        # Filter the dataframe for the current combination of classes\n",
        "        filtered_df = df[df[target_column].isin(combo)]\n",
        "        binary_class_dfs[combo] = filtered_df\n",
        "\n",
        "    return binary_class_dfs"
      ]
    },
    {
      "cell_type": "code",
      "execution_count": 14,
      "id": "c9f5b3a0",
      "metadata": {
        "id": "c9f5b3a0"
      },
      "outputs": [],
      "source": [
        "# Creating all possible combinations of binary df\n",
        "binary_df_dict = generate_binary_class_dfs(df,'label')"
      ]
    },
    {
      "cell_type": "code",
      "execution_count": null,
      "id": "749d03ec",
      "metadata": {
        "id": "749d03ec"
      },
      "outputs": [],
      "source": [
        "def train_and_evaluate(df, target_column, test_size=0.2):\n",
        "\n",
        "    # Encoding the labels\n",
        "    le = LabelEncoder()\n",
        "    encoded_labels = le.fit_transform(df[target_column])\n",
        "    df[target_column] = encoded_labels\n",
        "\n",
        "    # Splitting the dataset into training and testing sets\n",
        "    X = df.drop(target_column, axis=1)\n",
        "    y = df[target_column]\n",
        "    X_train, X_test, y_train, y_test = train_test_split(X, y, test_size=test_size, random_state=42)\n",
        "\n",
        "\n",
        "    # Creating the classifier with general parameters\n",
        "    model = xgb.XGBClassifier(\n",
        "        max_depth=6,                # Maximum tree depth for base learners\n",
        "        learning_rate=0.1,          # Boosting learning rate\n",
        "        n_estimators=100,           # Number of boosted trees to fit\n",
        "        subsample=0.8,              # Subsample ratio of the training instance\n",
        "        colsample_bytree=0.8,\n",
        "        eval_metric='logloss'       # Evaluation metric for binary classification\n",
        "    )\n",
        "\n",
        "    # Training the model\n",
        "    model.fit(X_train, y_train)\n",
        "\n",
        "    # Making predictions and evaluating the model\n",
        "    y_pred = model.predict(X_test)\n",
        "    accuracy = accuracy_score(y_test, y_pred)\n",
        "    class_labels = list(le.inverse_transform(sorted(y.unique())))\n",
        "    report = classification_report(y_test, y_pred, target_names=class_labels)\n",
        "\n",
        "\n",
        "    return accuracy, report, model, X_test"
      ]
    },
    {
      "cell_type": "code",
      "execution_count": null,
      "id": "6156a14c",
      "metadata": {
        "id": "6156a14c",
        "outputId": "53c94a6d-1f46-4ea6-9bc5-859eb37091c0"
      },
      "outputs": [
        {
          "name": "stdout",
          "output_type": "stream",
          "text": [
            "--------------------------------------------------------------------------------------------------\n",
            "Binary Classification Evaluation metrics for classes: ('PartOfAHorizontalPortScan', 'Okiru')\n",
            "['Okiru' 'PartOfAHorizontalPortScan']\n",
            "Accuracy: 0.6584923848081743\n",
            "Classification Report\n",
            "                           precision    recall  f1-score   support\n",
            "\n",
            "                    Okiru       0.60      1.00      0.75     26270\n",
            "PartOfAHorizontalPortScan       1.00      0.31      0.47     25600\n",
            "\n",
            "                 accuracy                           0.66     51870\n",
            "                macro avg       0.80      0.65      0.61     51870\n",
            "             weighted avg       0.80      0.66      0.61     51870\n",
            "\n",
            "-------------------------------------------------------------------------------------------------- \n",
            " \n",
            "\n",
            "--------------------------------------------------------------------------------------------------\n",
            "Binary Classification Evaluation metrics for classes: ('PartOfAHorizontalPortScan', 'Benign')\n",
            "['Benign' 'PartOfAHorizontalPortScan']\n",
            "Accuracy: 0.8292182265342086\n",
            "Classification Report\n",
            "                           precision    recall  f1-score   support\n",
            "\n",
            "                   Benign       0.83      0.83      0.83     26016\n",
            "PartOfAHorizontalPortScan       0.83      0.82      0.83     25623\n",
            "\n",
            "                 accuracy                           0.83     51639\n",
            "                macro avg       0.83      0.83      0.83     51639\n",
            "             weighted avg       0.83      0.83      0.83     51639\n",
            "\n",
            "-------------------------------------------------------------------------------------------------- \n",
            " \n",
            "\n",
            "--------------------------------------------------------------------------------------------------\n",
            "Binary Classification Evaluation metrics for classes: ('PartOfAHorizontalPortScan', 'DDoS')\n",
            "['DDoS' 'PartOfAHorizontalPortScan']\n",
            "Accuracy: 0.9994018028424678\n",
            "Classification Report\n",
            "                           precision    recall  f1-score   support\n",
            "\n",
            "                     DDoS       1.00      1.00      1.00     22931\n",
            "PartOfAHorizontalPortScan       1.00      1.00      1.00     25548\n",
            "\n",
            "                 accuracy                           1.00     48479\n",
            "                macro avg       1.00      1.00      1.00     48479\n",
            "             weighted avg       1.00      1.00      1.00     48479\n",
            "\n",
            "-------------------------------------------------------------------------------------------------- \n",
            " \n",
            "\n",
            "--------------------------------------------------------------------------------------------------\n",
            "Binary Classification Evaluation metrics for classes: ('PartOfAHorizontalPortScan', 'C&C')\n",
            "['C&C' 'PartOfAHorizontalPortScan']\n",
            "Accuracy: 0.9400804788151355\n",
            "Classification Report\n",
            "                           precision    recall  f1-score   support\n",
            "\n",
            "                      C&C       1.00      0.55      0.71      3889\n",
            "PartOfAHorizontalPortScan       0.94      1.00      0.97     25684\n",
            "\n",
            "                 accuracy                           0.94     29573\n",
            "                macro avg       0.97      0.77      0.84     29573\n",
            "             weighted avg       0.94      0.94      0.93     29573\n",
            "\n",
            "-------------------------------------------------------------------------------------------------- \n",
            " \n",
            "\n",
            "--------------------------------------------------------------------------------------------------\n",
            "Binary Classification Evaluation metrics for classes: ('Okiru', 'Benign')\n",
            "['Benign' 'Okiru']\n",
            "Accuracy: 0.9195905590443817\n",
            "Classification Report\n",
            "              precision    recall  f1-score   support\n",
            "\n",
            "      Benign       1.00      0.84      0.91     25937\n",
            "       Okiru       0.86      1.00      0.93     26134\n",
            "\n",
            "    accuracy                           0.92     52071\n",
            "   macro avg       0.93      0.92      0.92     52071\n",
            "weighted avg       0.93      0.92      0.92     52071\n",
            "\n",
            "-------------------------------------------------------------------------------------------------- \n",
            " \n",
            "\n",
            "--------------------------------------------------------------------------------------------------\n",
            "Binary Classification Evaluation metrics for classes: ('Okiru', 'DDoS')\n",
            "['DDoS' 'Okiru']\n",
            "Accuracy: 0.9992843999182172\n",
            "Classification Report\n",
            "              precision    recall  f1-score   support\n",
            "\n",
            "        DDoS       1.00      1.00      1.00     22909\n",
            "       Okiru       1.00      1.00      1.00     26001\n",
            "\n",
            "    accuracy                           1.00     48910\n",
            "   macro avg       1.00      1.00      1.00     48910\n",
            "weighted avg       1.00      1.00      1.00     48910\n",
            "\n",
            "-------------------------------------------------------------------------------------------------- \n",
            " \n",
            "\n",
            "--------------------------------------------------------------------------------------------------\n",
            "Binary Classification Evaluation metrics for classes: ('Okiru', 'C&C')\n",
            "['C&C' 'Okiru']\n",
            "Accuracy: 0.9999333422210372\n",
            "Classification Report\n",
            "              precision    recall  f1-score   support\n",
            "\n",
            "         C&C       1.00      1.00      1.00      3811\n",
            "       Okiru       1.00      1.00      1.00     26193\n",
            "\n",
            "    accuracy                           1.00     30004\n",
            "   macro avg       1.00      1.00      1.00     30004\n",
            "weighted avg       1.00      1.00      1.00     30004\n",
            "\n",
            "-------------------------------------------------------------------------------------------------- \n",
            " \n",
            "\n",
            "--------------------------------------------------------------------------------------------------\n",
            "Binary Classification Evaluation metrics for classes: ('Benign', 'DDoS')\n",
            "['Benign' 'DDoS']\n",
            "Accuracy: 0.9994248033032724\n",
            "Classification Report\n",
            "              precision    recall  f1-score   support\n",
            "\n",
            "      Benign       1.00      1.00      1.00     25829\n",
            "        DDoS       1.00      1.00      1.00     22850\n",
            "\n",
            "    accuracy                           1.00     48679\n",
            "   macro avg       1.00      1.00      1.00     48679\n",
            "weighted avg       1.00      1.00      1.00     48679\n",
            "\n",
            "-------------------------------------------------------------------------------------------------- \n",
            " \n",
            "\n",
            "--------------------------------------------------------------------------------------------------\n",
            "Binary Classification Evaluation metrics for classes: ('Benign', 'C&C')\n",
            "['Benign' 'C&C']\n",
            "Accuracy: 0.910388607127263\n",
            "Classification Report\n",
            "              precision    recall  f1-score   support\n",
            "\n",
            "      Benign       0.91      1.00      0.95     25967\n",
            "         C&C       0.99      0.30      0.46      3806\n",
            "\n",
            "    accuracy                           0.91     29773\n",
            "   macro avg       0.95      0.65      0.71     29773\n",
            "weighted avg       0.92      0.91      0.89     29773\n",
            "\n",
            "-------------------------------------------------------------------------------------------------- \n",
            " \n",
            "\n",
            "--------------------------------------------------------------------------------------------------\n",
            "Binary Classification Evaluation metrics for classes: ('DDoS', 'C&C')\n",
            "['C&C' 'DDoS']\n",
            "Accuracy: 1.0\n",
            "Classification Report\n",
            "              precision    recall  f1-score   support\n",
            "\n",
            "         C&C       1.00      1.00      1.00      3783\n",
            "        DDoS       1.00      1.00      1.00     22830\n",
            "\n",
            "    accuracy                           1.00     26613\n",
            "   macro avg       1.00      1.00      1.00     26613\n",
            "weighted avg       1.00      1.00      1.00     26613\n",
            "\n",
            "-------------------------------------------------------------------------------------------------- \n",
            " \n",
            "\n"
          ]
        }
      ],
      "source": [
        "for key, value in binary_df_dict.items():\n",
        "    print('--------------------------------------------------------------------------------------------------')\n",
        "    print('Binary Classification Evaluation metrics for classes:',key)\n",
        "    accuracy, report, model, test_set = train_and_evaluate(value,'label')\n",
        "    print('Accuracy:', accuracy)\n",
        "    print('Classification Report')\n",
        "    print(report)\n",
        "    print('-------------------------------------------------------------------------------------------------- \\n \\n')\n",
        ""
      ]
    },
    {
      "cell_type": "markdown",
      "id": "cbb42c8d",
      "metadata": {
        "id": "cbb42c8d"
      },
      "source": [
        "#"
      ]
    },
    {
      "cell_type": "markdown",
      "id": "2500169c",
      "metadata": {
        "id": "2500169c"
      },
      "source": [
        "# <center> Binary Class Experimentation: Attack vs Benign"
      ]
    },
    {
      "cell_type": "code",
      "execution_count": 20,
      "id": "fb906b55",
      "metadata": {
        "id": "fb906b55"
      },
      "outputs": [],
      "source": [
        "df['label'] = df['label'].apply(lambda x: 'Malicious' if x != 'Benign' else 'Benign')"
      ]
    },
    {
      "cell_type": "code",
      "execution_count": 21,
      "id": "55a0fc02",
      "metadata": {
        "colab": {
          "base_uri": "https://localhost:8080/"
        },
        "id": "55a0fc02",
        "outputId": "59381aea-4615-479a-aee1-bb72243b8a81"
      },
      "outputs": [
        {
          "output_type": "execute_result",
          "data": {
            "text/plain": [
              "Malicious    392413\n",
              "Benign       129598\n",
              "Name: label, dtype: int64"
            ]
          },
          "metadata": {},
          "execution_count": 21
        }
      ],
      "source": [
        "df['label'].value_counts()"
      ]
    },
    {
      "cell_type": "code",
      "execution_count": 22,
      "id": "9ed1eed7",
      "metadata": {
        "id": "9ed1eed7"
      },
      "outputs": [],
      "source": [
        "df_attack = df[df['label']=='Malicious'].sample(frac = 0.33, random_state= 4)"
      ]
    },
    {
      "cell_type": "code",
      "execution_count": 23,
      "id": "f6cf3b2e",
      "metadata": {
        "id": "f6cf3b2e"
      },
      "outputs": [],
      "source": [
        "df_binary = pd.concat([df_attack, df[df['label']=='Benign']], ignore_index= True)"
      ]
    },
    {
      "cell_type": "code",
      "source": [
        "# Encoding the labels\n",
        "le = LabelEncoder()\n",
        "encoded_labels = le.fit_transform(df['label'])\n",
        "df['label'] = encoded_labels\n",
        "\n",
        "# Splitting the dataset into training and testing sets\n",
        "X = df.drop('label', axis=1)\n",
        "y = df['label']\n",
        "X_train, X_test, y_train, y_test = train_test_split(X, y, test_size=0.2, random_state=42)"
      ],
      "metadata": {
        "id": "qAzrJ1V9eP6I"
      },
      "id": "qAzrJ1V9eP6I",
      "execution_count": 25,
      "outputs": []
    },
    {
      "cell_type": "code",
      "source": [
        "# Experiments with KNN Classifier\n",
        "# KNN classifier\n",
        "from sklearn.neighbors import KNeighborsClassifier\n",
        "knn = KNeighborsClassifier(n_neighbors=3)\n",
        "\n",
        "knn.fit(X_train, y_train)\n",
        "print(knn.score(X_test, y_test))\n",
        "\n",
        "\n",
        "y_pred = knn.predict(X_test)\n",
        "print(\"Classification Report:\")\n",
        "print(classification_report(y_test, y_pred))"
      ],
      "metadata": {
        "colab": {
          "base_uri": "https://localhost:8080/"
        },
        "id": "gK1fOd5ugRP2",
        "outputId": "27e9da59-12a3-45dd-f3ae-28994c2321ce"
      },
      "id": "gK1fOd5ugRP2",
      "execution_count": 26,
      "outputs": [
        {
          "output_type": "stream",
          "name": "stdout",
          "text": [
            "0.887503232665728\n",
            "Classification Report:\n",
            "              precision    recall  f1-score   support\n",
            "\n",
            "           0       0.75      0.82      0.78     25821\n",
            "           1       0.94      0.91      0.92     78582\n",
            "\n",
            "    accuracy                           0.89    104403\n",
            "   macro avg       0.84      0.86      0.85    104403\n",
            "weighted avg       0.89      0.89      0.89    104403\n",
            "\n"
          ]
        }
      ]
    },
    {
      "cell_type": "code",
      "source": [
        "# Experiments with Random forest classifier\n",
        "classifier_rf = RandomForestClassifier(random_state=90, n_jobs=-1, max_depth=5,\n",
        "                                       n_estimators=100, oob_score=True)\n",
        "\n",
        "classifier_rf.fit(X_train, y_train)\n",
        "print(classifier_rf.score(X_test, y_test))\n",
        "\n",
        "\n",
        "y_pred = classifier_rf.predict(X_test)\n",
        "print(\"Classification Report:\")\n",
        "print(classification_report(y_test, y_pred))"
      ],
      "metadata": {
        "colab": {
          "base_uri": "https://localhost:8080/"
        },
        "id": "W5KP23GpgerR",
        "outputId": "9779b65e-2c56-4d86-a12d-5385e9e1db6f"
      },
      "id": "W5KP23GpgerR",
      "execution_count": 27,
      "outputs": [
        {
          "output_type": "stream",
          "name": "stdout",
          "text": [
            "0.8830014463185923\n",
            "Classification Report:\n",
            "              precision    recall  f1-score   support\n",
            "\n",
            "           0       0.93      0.57      0.71     25821\n",
            "           1       0.87      0.99      0.93     78582\n",
            "\n",
            "    accuracy                           0.88    104403\n",
            "   macro avg       0.90      0.78      0.82    104403\n",
            "weighted avg       0.89      0.88      0.87    104403\n",
            "\n"
          ]
        }
      ]
    },
    {
      "cell_type": "code",
      "execution_count": null,
      "id": "85593c3a",
      "metadata": {
        "id": "85593c3a"
      },
      "outputs": [],
      "source": [
        "# Building the final candidate model using XGBoost\n",
        "accuracy, report, model, test_set = train_and_evaluate(df_binary,'label')"
      ]
    },
    {
      "cell_type": "code",
      "execution_count": null,
      "id": "8a29e099",
      "metadata": {
        "id": "8a29e099",
        "outputId": "f2e3ad31-a71a-4f5e-eeac-99e2d633e26e"
      },
      "outputs": [
        {
          "name": "stdout",
          "output_type": "stream",
          "text": [
            "Accuracy 0.86919855651402\n",
            "Classification Report \n",
            "               precision    recall  f1-score   support\n",
            "\n",
            "      Benign       0.90      0.83      0.86     26020\n",
            "   Malicious       0.84      0.91      0.87     25799\n",
            "\n",
            "    accuracy                           0.87     51819\n",
            "   macro avg       0.87      0.87      0.87     51819\n",
            "weighted avg       0.87      0.87      0.87     51819\n",
            "\n"
          ]
        }
      ],
      "source": [
        "print('Accuracy', accuracy)\n",
        "print('Classification Report \\n',report)"
      ]
    },
    {
      "cell_type": "code",
      "execution_count": null,
      "id": "cd5e9733",
      "metadata": {
        "id": "cd5e9733",
        "outputId": "be8b2f5c-1f21-421f-bb2f-c36b80d0f632"
      },
      "outputs": [
        {
          "data": {
            "image/png": "[encoded data removed]",
            "text/plain": [
              "<Figure size 576x684 with 1 Axes>"
            ]
          },
          "metadata": {
            "needs_background": "light"
          },
          "output_type": "display_data"
        }
      ],
      "source": [
        "# Calculatin SHAP feature importance\n",
        "X_importance = X_eval\n",
        "\n",
        "# Explain model predictions using shap library:\n",
        "explainer = shap.TreeExplainer(model)\n",
        "shap_values = explainer.shap_values(X_importance)\n",
        "\n",
        "# Plot summary_plot\n",
        "shap.summary_plot(shap_values, X_importance, plot_type='bar')"
      ]
    }
  ],
  "metadata": {
    "kernelspec": {
      "display_name": "Python 3 (ipykernel)",
      "language": "python",
      "name": "python3"
    },
    "language_info": {
      "codemirror_mode": {
        "name": "ipython",
        "version": 3
      },
      "file_extension": ".py",
      "mimetype": "text/x-python",
      "name": "python",
      "nbconvert_exporter": "python",
      "pygments_lexer": "ipython3",
      "version": "3.9.7"
    },
    "colab": {
      "provenance": []
    }
  },
  "nbformat": 4,
  "nbformat_minor": 5
}