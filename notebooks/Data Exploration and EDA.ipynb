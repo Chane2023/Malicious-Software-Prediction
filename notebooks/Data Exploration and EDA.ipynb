{
 "cells": [
  {
   "cell_type": "markdown",
   "id": "e93292d6",
   "metadata": {},
   "source": [
    "<center><h1>Data Explotation </center>"
   ]
  },
  {
   "cell_type": "code",
   "execution_count": 3,
   "id": "0efc0536",
   "metadata": {},
   "outputs": [],
   "source": [
    "import pandas as pd\n",
    "import numpy as np\n",
    "import os\n",
    "from scipy import stats\n",
    "import matplotlib.pyplot as plt\n",
    "import seaborn as sns\n",
    "import plotly.express as px\n",
    "# Set the warning mode to 'none' to suppress the SettingWithCopyWarning\n",
    "pd.options.mode.chained_assignment = None"
   ]
  },
  {
   "cell_type": "code",
   "execution_count": 4,
   "id": "369c865c",
   "metadata": {},
   "outputs": [],
   "source": [
    "# Setting up the working directory\n",
    "os.chdir('..')"
   ]
  },
  {
   "cell_type": "code",
   "execution_count": null,
   "id": "f8c51bea",
   "metadata": {},
   "outputs": [],
   "source": [
    "df = pd.read_csv(r'data/iot_23.csv', low_memory=False)"
   ]
  },
  {
   "cell_type": "code",
   "execution_count": null,
   "id": "f7c9bdbd",
   "metadata": {},
   "outputs": [],
   "source": [
    "df.head(5)"
   ]
  },
  {
   "cell_type": "code",
   "execution_count": null,
   "id": "e7fed7e8",
   "metadata": {},
   "outputs": [],
   "source": [
    "# Checking the count of the columns\n",
    "print(df.columns)\n",
    "print('\\n')\n",
    "print('Total number of columns', len(df.columns))"
   ]
  },
  {
   "cell_type": "code",
   "execution_count": null,
   "id": "26eee597",
   "metadata": {},
   "outputs": [],
   "source": [
    "# Checking the data types of the dataframe\n",
    "df.dtypes"
   ]
  },
  {
   "cell_type": "markdown",
   "id": "ca0e5b75",
   "metadata": {},
   "source": [
    "## Dataset Description\n",
    "1. ts --\tThe time when the capture was done, expressed in Unix Time\n",
    "2. uid --\tThe ID of the capture\n",
    "3. id_orig_h --\tThe IP address where the attack happened, either IPv4 or IPv6\n",
    "4. id_orig_p --\tThe port used by the responder\n",
    "5. id_resp_h --\tThe IP address of the device on which the capture happened\n",
    "6. id_resp_p --\tThe port used for the response from the device where the capture happened\n",
    "7. proto --\tThe network protocol used for the data package\n",
    "8. service --\tThe application protocol\n",
    "9. duration --\tThe amount of time data was traded between the device and the attacker\n",
    "10. orig_bytes --\tThe amount of data sent to the device\n",
    "11. resp_bytes --\tThe amount of data sent by the device\n",
    "12. conn_state --\tThe state of the connection\n",
    "13. local_orig --\tWhether the connection originated locally\n",
    "14. local_resp --\tWhether the response originated locally\n",
    "15. missed_bytes --\tNumber of missed bytes in a message\n",
    "16. history --\tThe history of the state of the connection\t\n",
    "17. orig_pkts --\tNumber of packets being sent to the device\t\n",
    "18. orig_ip_bytes --\tNumber of bytes being sent to the device\n",
    "19. resp_pkts --\tNumber of packets being sent from the device\n",
    "20. resp_ip_bytes --\tNumber of bytes being sent from the device\n",
    "21. label --\tThe type of capture, benign or malicious\n"
   ]
  },
  {
   "cell_type": "code",
   "execution_count": null,
   "id": "1c2197b3",
   "metadata": {},
   "outputs": [],
   "source": [
    "# Check for different types of attacks and their frequencies in the data\n",
    "df['label'].value_counts()"
   ]
  },
  {
   "cell_type": "markdown",
   "id": "3aa3ff96",
   "metadata": {},
   "source": [
    "<center><h1>Data Cleansing </center>"
   ]
  },
  {
   "cell_type": "code",
   "execution_count": null,
   "id": "d500b7ab",
   "metadata": {},
   "outputs": [],
   "source": [
    "# Check if any null data exists in the dataset\n",
    "df.isna().sum()"
   ]
  },
  {
   "cell_type": "code",
   "execution_count": null,
   "id": "e74d2a53",
   "metadata": {},
   "outputs": [],
   "source": [
    "# Convert Unix timestamp to datetime\n",
    "df['ts'] = pd.to_datetime(df['ts'], unit='s')"
   ]
  },
  {
   "cell_type": "code",
   "execution_count": null,
   "id": "11ade5c9",
   "metadata": {},
   "outputs": [],
   "source": [
    "# Remove duplicate rows based on all columns\n",
    "df.drop_duplicates(inplace=True)"
   ]
  },
  {
   "cell_type": "markdown",
   "id": "8b3666e6",
   "metadata": {},
   "source": [
    "## Outlier Treatment\n",
    "1. Z-Score Calculation: For every data point, compute its Z-score, which represents how many standard deviations the data point is away from the mean of the dataset.\n",
    "\n",
    "2. Threshold Determination: Set a threshold (commonly set to a value like 3) to determine how extreme a Z-score has to be for the corresponding data point to be considered an outlier.\n",
    "\n",
    "3. Outlier Identification: Data points with Z-scores greater than the threshold are identified as outliers. Essentially, points that are too far from the mean, based on the set threshold, are flagged.\n",
    "\n",
    "4. Outlier Removal: Using the identified outliers from the previous step, these data points are excluded or replaced to cleanse the dataset.\n",
    "\n",
    "5. Clean Dataset: After removal, the result is a dataset with reduced extremities and variations caused by outliers."
   ]
  },
  {
   "cell_type": "code",
   "execution_count": null,
   "id": "0b712784",
   "metadata": {},
   "outputs": [],
   "source": [
    "# Define a threshold for considering values as outliers\n",
    "threshold = 3\n",
    "\n",
    "# Copy the original DataFrame to a new one to retain all columns\n",
    "df_no_outliers = df.copy(deep = True)\n",
    "\n",
    "# Iterate through each numerical column\n",
    "for column in df.select_dtypes(include=np.number):\n",
    "    # Calculate the z-scores for the column\n",
    "    z_scores = np.abs(stats.zscore(df_no_outliers[column]))\n",
    "    \n",
    "    # Identify outliers\n",
    "    outliers = np.where(z_scores > threshold)\n",
    "    \n",
    "    # Create a mask to filter out outliers\n",
    "    mask = ~(z_scores > threshold)\n",
    "    \n",
    "    # Replace outlier values with NaN\n",
    "    df_no_outliers[column][~mask] = np.nan\n",
    "\n",
    "# Optionally, you can drop rows with any missing values after outlier treatment\n",
    "df_no_outliers.dropna(inplace=True)"
   ]
  },
  {
   "cell_type": "code",
   "execution_count": null,
   "id": "385170c9",
   "metadata": {},
   "outputs": [],
   "source": [
    "df_no_outliers"
   ]
  },
  {
   "cell_type": "markdown",
   "id": "bb81996f",
   "metadata": {},
   "source": [
    "<center><h1>Exploratory Data Analysis </center>"
   ]
  },
  {
   "cell_type": "code",
   "execution_count": null,
   "id": "be9d6d5f",
   "metadata": {},
   "outputs": [],
   "source": [
    "x "
   ]
  },
  {
   "cell_type": "code",
   "execution_count": null,
   "id": "2cfab72f",
   "metadata": {},
   "outputs": [],
   "source": []
  }
 ],
 "metadata": {
  "kernelspec": {
   "display_name": "Python 3 (ipykernel)",
   "language": "python",
   "name": "python3"
  },
  "language_info": {
   "codemirror_mode": {
    "name": "ipython",
    "version": 3
   },
   "file_extension": ".py",
   "mimetype": "text/x-python",
   "name": "python",
   "nbconvert_exporter": "python",
   "pygments_lexer": "ipython3",
   "version": "3.10.4"
  }
 },
 "nbformat": 4,
 "nbformat_minor": 5
}
